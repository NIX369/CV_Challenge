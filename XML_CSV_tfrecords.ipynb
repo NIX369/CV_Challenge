{
  "nbformat": 4,
  "nbformat_minor": 0,
  "metadata": {
    "colab": {
      "provenance": [],
      "gpuType": "T4"
    },
    "kernelspec": {
      "name": "python3",
      "display_name": "Python 3"
    },
    "language_info": {
      "name": "python"
    },
    "accelerator": "GPU"
  },
  "cells": [
    {
      "cell_type": "code",
      "source": [
        "!pip install tensorflow-object-detection-api\n"
      ],
      "metadata": {
        "id": "q4z-UkvhlggJ"
      },
      "execution_count": null,
      "outputs": []
    },
    {
      "cell_type": "markdown",
      "source": [
        "# Converting Training XML annotations to CSV"
      ],
      "metadata": {
        "id": "wX9d6RDAhrxH"
      }
    },
    {
      "cell_type": "code",
      "source": [
        "import os\n",
        "import glob\n",
        "import pandas as pd\n",
        "import xml.etree.ElementTree as ET\n",
        "from tqdm import tqdm\n",
        "\n",
        "def __list_to_csv(annotations, output_file):\n",
        "    column_name = ['filename', 'folder', 'source_database', 'width', 'height', 'depth',\n",
        "                   'segmented', 'object_name', 'object_pose', 'object_truncated',\n",
        "                   'object_difficult', 'xmin', 'ymin', 'xmax', 'ymax']\n",
        "    xml_df = pd.DataFrame(annotations, columns=column_name)\n",
        "    xml_df.to_csv(output_file, index=None)\n",
        "\n",
        "def xml_to_csv(xml_dir, output_file):\n",
        "    \"\"\"Reads all XML files from a directory and generates a single CSV file\"\"\"\n",
        "    annotations = []\n",
        "    for xml_file in tqdm(glob.glob(xml_dir + '/*.xml')):\n",
        "        tree = ET.parse(xml_file)\n",
        "        root = tree.getroot()\n",
        "        filename = root.find('filename').text\n",
        "        folder = root.find('folder').text\n",
        "        source_database = root.find('source/database').text\n",
        "        width = int(root.find('size/width').text)\n",
        "        height = int(root.find('size/height').text)\n",
        "        depth = int(root.find('size/depth').text)\n",
        "        segmented = int(root.find('segmented').text)\n",
        "\n",
        "        for obj in root.findall('object'):\n",
        "            name = obj.find('name').text\n",
        "            pose = obj.find('pose').text\n",
        "            truncated = int(obj.find('truncated').text)\n",
        "            difficult = int(obj.find('difficult').text)\n",
        "            xmin = int(obj.find('bndbox/xmin').text)\n",
        "            ymin = int(obj.find('bndbox/ymin').text)\n",
        "            xmax = int(obj.find('bndbox/xmax').text)\n",
        "            ymax = int(obj.find('bndbox/ymax').text)\n",
        "\n",
        "            annotations.append((filename, folder, source_database, width, height, depth,\n",
        "                                segmented, name, pose, truncated, difficult,\n",
        "                                xmin, ymin, xmax, ymax))\n",
        "\n",
        "    __list_to_csv(annotations, output_file)\n",
        "\n",
        "xml_dir = \"/content/NEU-DET/train/annotations\"\n",
        "output_csv = \"/content/NEU-DET/train/training_annotations.csv\"\n",
        "xml_to_csv(xml_dir, output_csv)\n"
      ],
      "metadata": {
        "colab": {
          "base_uri": "https://localhost:8080/"
        },
        "id": "csjYsn3tgIf-",
        "outputId": "6f299e96-e781-41b5-9327-df29d75e5279"
      },
      "execution_count": null,
      "outputs": [
        {
          "output_type": "stream",
          "name": "stderr",
          "text": [
            "100%|██████████| 1440/1440 [00:00<00:00, 10866.82it/s]\n"
          ]
        }
      ]
    },
    {
      "cell_type": "markdown",
      "source": [
        "#Converting Validation XML annotations to CSV"
      ],
      "metadata": {
        "id": "F1_9hvYSh3l5"
      }
    },
    {
      "cell_type": "code",
      "source": [
        "import os\n",
        "import glob\n",
        "import pandas as pd\n",
        "import xml.etree.ElementTree as ET\n",
        "from tqdm import tqdm\n",
        "\n",
        "def __list_to_csv(annotations, output_file):\n",
        "    column_name = ['filename', 'folder', 'source_database', 'width', 'height', 'depth',\n",
        "                   'segmented', 'object_name', 'object_pose', 'object_truncated',\n",
        "                   'object_difficult', 'xmin', 'ymin', 'xmax', 'ymax']\n",
        "    xml_df = pd.DataFrame(annotations, columns=column_name)\n",
        "    xml_df.to_csv(output_file, index=None)\n",
        "\n",
        "def xml_to_csv(xml_dir, output_file):\n",
        "    \"\"\"Reads all XML files from a directory and generates a single CSV file\"\"\"\n",
        "    annotations = []\n",
        "    for xml_file in tqdm(glob.glob(xml_dir + '/*.xml')):\n",
        "        tree = ET.parse(xml_file)\n",
        "        root = tree.getroot()\n",
        "        filename = root.find('filename').text\n",
        "        folder = root.find('folder').text\n",
        "        source_database = root.find('source/database').text\n",
        "        width = int(root.find('size/width').text)\n",
        "        height = int(root.find('size/height').text)\n",
        "        depth = int(root.find('size/depth').text)\n",
        "        segmented = int(root.find('segmented').text)\n",
        "\n",
        "        for obj in root.findall('object'):\n",
        "            name = obj.find('name').text\n",
        "            pose = obj.find('pose').text\n",
        "            truncated = int(obj.find('truncated').text)\n",
        "            difficult = int(obj.find('difficult').text)\n",
        "            xmin = int(obj.find('bndbox/xmin').text)\n",
        "            ymin = int(obj.find('bndbox/ymin').text)\n",
        "            xmax = int(obj.find('bndbox/xmax').text)\n",
        "            ymax = int(obj.find('bndbox/ymax').text)\n",
        "\n",
        "            annotations.append((filename, folder, source_database, width, height, depth,\n",
        "                                segmented, name, pose, truncated, difficult,\n",
        "                                xmin, ymin, xmax, ymax))\n",
        "\n",
        "    __list_to_csv(annotations, output_file)\n",
        "\n",
        "xml_dir = \"/content/NEU-DET/validation/annotations\"\n",
        "output_csv = \"/content/NEU-DET/validation/validation_annotations.csv\"\n",
        "xml_to_csv(xml_dir, output_csv)\n"
      ],
      "metadata": {
        "colab": {
          "base_uri": "https://localhost:8080/"
        },
        "id": "ce6EI5fyheBE",
        "outputId": "1f609dbf-5519-4f2b-cd00-a1d7af59f8df"
      },
      "execution_count": null,
      "outputs": [
        {
          "output_type": "stream",
          "name": "stderr",
          "text": [
            "100%|██████████| 361/361 [00:00<00:00, 2362.45it/s]\n"
          ]
        }
      ]
    },
    {
      "cell_type": "markdown",
      "source": [
        "#Creating Training TF Records\n"
      ],
      "metadata": {
        "id": "e2sG_pjYkfwi"
      }
    },
    {
      "cell_type": "code",
      "source": [
        "import pandas as pd\n",
        "\n",
        "# Read the CSV file\n",
        "csv_file = \"/content/NEU-DET/train/training_annotations.csv\"\n",
        "df = pd.read_csv(csv_file)\n",
        "\n",
        "# Iterate through the filenames and append \".jpg\" if not already present\n",
        "for i, filename in enumerate(df['filename']):\n",
        "    if not filename.endswith(\".jpg\"):\n",
        "        df.loc[i, 'filename'] += \".jpg\"\n",
        "\n",
        "# Save the modified DataFrame back to the CSV file\n",
        "df.to_csv(csv_file, index=False)\n"
      ],
      "metadata": {
        "id": "H8zrRIjjpVpa"
      },
      "execution_count": null,
      "outputs": []
    },
    {
      "cell_type": "code",
      "source": [
        "import os\n",
        "import pandas as pd\n",
        "import tensorflow as tf\n",
        "from PIL import Image\n",
        "import io\n",
        "from object_detection.utils import dataset_util\n",
        "\n",
        "\n",
        "def image_feature(value):\n",
        "    \"\"\"Returns a bytes_list from a string / byte.\"\"\"\n",
        "    return tf.train.Feature(\n",
        "        bytes_list=tf.train.BytesList(value=[tf.io.encode_jpeg(value).numpy()])\n",
        "    )\n",
        "\n",
        "def create_tf_example(filename, image_dir, annotations):\n",
        "    image_path = os.path.join(image_dir, filename)\n",
        "    with tf.io.gfile.GFile(image_path, 'rb') as fid:\n",
        "        encoded_jpg = fid.read()\n",
        "    image = tf.image.decode_jpeg(encoded_jpg, channels=3)  # Decode image to uint8 tensor\n",
        "    height, width, _ = image.shape\n",
        "\n",
        "    filename = filename.encode('utf8')\n",
        "\n",
        "    xmins = []\n",
        "    xmaxs = []\n",
        "    ymins = []\n",
        "    ymaxs = []\n",
        "    classes_text = []\n",
        "    difficult = []\n",
        "    truncated = []\n",
        "\n",
        "    # Extract annotations for the current image from the annotations DataFrame\n",
        "    image_annotations = annotations[annotations['filename'] == filename.decode('utf-8')]\n",
        "    for index, annotation in image_annotations.iterrows():\n",
        "        xmins.append(annotation['xmin'] / width)\n",
        "        xmaxs.append(annotation['xmax'] / width)\n",
        "        ymins.append(annotation['ymin'] / height)\n",
        "        ymaxs.append(annotation['ymax'] / height)\n",
        "        classes_text.append(annotation['object_name'].encode('utf8'))\n",
        "        difficult.append(annotation['object_difficult'])\n",
        "        truncated.append(annotation['object_truncated'])\n",
        "\n",
        "    tf_example = tf.train.Example(features=tf.train.Features(\n",
        "        feature={\n",
        "            'image/height': dataset_util.int64_feature(height),\n",
        "            'image/width': dataset_util.int64_feature(width),\n",
        "            'image/filename': dataset_util.bytes_feature(filename),\n",
        "            'image/source_id': dataset_util.bytes_feature(filename),  # source_id can be same as filename\n",
        "            'image/encoded': dataset_util.bytes_feature(tf.io.encode_jpeg(image).numpy()),  # Encode image to JPEG\n",
        "            'image/format': dataset_util.bytes_feature(b'jpeg'),\n",
        "            'image/object/bndbox/xmin': dataset_util.float_list_feature(xmins),\n",
        "            'image/object/bndbox/xmax': dataset_util.float_list_feature(xmaxs),\n",
        "            'image/object/bndbox/ymin': dataset_util.float_list_feature(ymins),\n",
        "            'image/object/bndbox/ymax': dataset_util.float_list_feature(ymaxs),\n",
        "            'image/object/class/text': dataset_util.bytes_list_feature(classes_text),\n",
        "            'image/object/difficult': dataset_util.int64_list_feature(difficult),\n",
        "            'image/object/truncated': dataset_util.int64_list_feature(truncated),\n",
        "        }\n",
        "    ))\n",
        "    return tf_example\n",
        "\n",
        "def main():\n",
        "    # Define file paths\n",
        "    csv_input = \"/content/NEU-DET/train/training_annotations.csv\"\n",
        "    image_dir = \"/content/Train_Images/images\"\n",
        "\n",
        "    # Read CSV file containing image annotations\n",
        "    annotations = pd.read_csv(csv_input)\n",
        "\n",
        "    # Iterate through each unique filename in the CSV file\n",
        "    for filename in annotations['filename'].unique():\n",
        "        output_path = f\"/content/Train_tfrecords/output_{os.path.splitext(filename)[0]}.tfrecord\"\n",
        "\n",
        "        # Create a TFRecord for the current image\n",
        "        tf_example = create_tf_example(filename, image_dir, annotations)\n",
        "\n",
        "        # Write TFRecord to file\n",
        "        with tf.io.TFRecordWriter(output_path) as writer:\n",
        "            writer.write(tf_example.SerializeToString())\n",
        "\n",
        "        print(f'Successfully created TFRecord for {filename}. Output path: {output_path}')\n",
        "\n",
        "if __name__ == \"__main__\":\n",
        "    main()"
      ],
      "metadata": {
        "id": "yr9bgz8JaEEZ"
      },
      "execution_count": null,
      "outputs": []
    },
    {
      "cell_type": "code",
      "source": [
        "filenames = [\"/content/Train_tfrecords/output_crazing_21.tfrecord\"]\n",
        "raw_dataset = tf.data.TFRecordDataset(filenames)\n",
        "raw_dataset"
      ],
      "metadata": {
        "colab": {
          "base_uri": "https://localhost:8080/"
        },
        "id": "TULPAmYjbTN2",
        "outputId": "972c48f5-dc94-49cb-ad51-7ee32431969a"
      },
      "execution_count": null,
      "outputs": [
        {
          "output_type": "execute_result",
          "data": {
            "text/plain": [
              "<TFRecordDatasetV2 element_spec=TensorSpec(shape=(), dtype=tf.string, name=None)>"
            ]
          },
          "metadata": {},
          "execution_count": 14
        }
      ]
    },
    {
      "cell_type": "markdown",
      "source": [
        "#Creation of Training tfrecords"
      ],
      "metadata": {
        "id": "4N-2U_UDU7PM"
      }
    },
    {
      "cell_type": "code",
      "source": [
        "import os\n",
        "import io\n",
        "import pandas as pd\n",
        "import tensorflow as tf\n",
        "from PIL import Image\n",
        "from object_detection.utils import dataset_util\n",
        "from collections import namedtuple\n",
        "\n",
        "def create_tf_example(filename, image_dir, annotations):\n",
        "    image_path = os.path.join(image_dir, filename)\n",
        "    with tf.io.gfile.GFile(image_path, 'rb') as fid:\n",
        "        encoded_jpg = fid.read()\n",
        "\n",
        "    # Convert the raw image data to JPEG format\n",
        "    encoded_jpg_io = io.BytesIO(encoded_jpg)\n",
        "    image = Image.open(encoded_jpg_io)\n",
        "    output_io = io.BytesIO()\n",
        "    image.save(output_io, format='JPEG')\n",
        "    encoded_jpg = output_io.getvalue()\n",
        "\n",
        "    width, height = image.size\n",
        "\n",
        "    filename = filename.encode('utf8')\n",
        "    source_id = filename\n",
        "    image_format = b'jpg'\n",
        "\n",
        "    xmins = []\n",
        "    xmaxs = []\n",
        "    ymins = []\n",
        "    ymaxs = []\n",
        "    classes_text = []\n",
        "    difficult = []\n",
        "    truncated = []\n",
        "\n",
        "    # Extract annotations for the current image from the annotations DataFrame\n",
        "    image_annotations = annotations[annotations['filename'] == filename.decode('utf-8')]\n",
        "    for index, annotation in image_annotations.iterrows():\n",
        "        xmins.append(annotation['xmin'])\n",
        "        xmaxs.append(annotation['xmax'])\n",
        "        ymins.append(annotation['ymin'])\n",
        "        ymaxs.append(annotation['ymax'])\n",
        "        classes_text.append(annotation['object_name'].encode('utf8'))\n",
        "        difficult.append(annotation['object_difficult'])\n",
        "        truncated.append(annotation['object_truncated'])\n",
        "\n",
        "    tf_example = tf.train.Example(features=tf.train.Features(\n",
        "        feature={\n",
        "            'image/width': dataset_util.int64_feature(width),\n",
        "            'image/height': dataset_util.int64_feature(height),\n",
        "            'image/filename': dataset_util.bytes_feature(filename),\n",
        "            'image/encoded': dataset_util.bytes_feature(encoded_jpg),\n",
        "            'image/format': dataset_util.bytes_feature(image_format),\n",
        "            'image/object/bndbox/xmin': dataset_util.float_list_feature(xmins),\n",
        "            'image/object/bndbox/xmax': dataset_util.float_list_feature(xmaxs),\n",
        "            'image/object/bndbox/ymin': dataset_util.float_list_feature(ymins),\n",
        "            'image/object/bndbox/ymax': dataset_util.float_list_feature(ymaxs),\n",
        "            'image/object/class/text': dataset_util.bytes_list_feature(classes_text),\n",
        "            'image/object/difficult': dataset_util.int64_list_feature(difficult),\n",
        "            'image/object/truncated': dataset_util.int64_list_feature(truncated),\n",
        "        }\n",
        "    ))\n",
        "    return tf_example\n",
        "def main():\n",
        "    # Define file paths\n",
        "    csv_input = \"/content/NEU-DET/train/training_annotations.csv\"\n",
        "    image_dir = \"/content/Train_Images/images\"\n",
        "\n",
        "    # Read CSV file containing image annotations\n",
        "    annotations = pd.read_csv(csv_input)\n",
        "\n",
        "    # Iterate through each unique filename in the CSV file\n",
        "    for filename in annotations['filename'].unique():\n",
        "        output_path = f\"/content/Train_tfrecords/output_{os.path.splitext(filename)[0]}.tfrecord\"\n",
        "\n",
        "        # Create a TFRecord for the current image\n",
        "        tf_example = create_tf_example(filename, image_dir, annotations)\n",
        "\n",
        "        # Write TFRecord to file\n",
        "        with tf.io.TFRecordWriter(output_path) as writer:\n",
        "            writer.write(tf_example.SerializeToString())\n",
        "\n",
        "        print(f'Successfully created TFRecord for {filename}. Output path: {output_path}')\n",
        "\n",
        "if __name__ == \"__main__\":\n",
        "    main()"
      ],
      "metadata": {
        "id": "AC6NNgGyU-Bg"
      },
      "execution_count": null,
      "outputs": []
    },
    {
      "cell_type": "markdown",
      "source": [
        "#Creating Validation TF Records"
      ],
      "metadata": {
        "id": "wFoRCyGirHll"
      }
    },
    {
      "cell_type": "code",
      "source": [
        "import pandas as pd\n",
        "\n",
        "# Read the CSV file\n",
        "csv_file = \"/content/NEU-DET/validation/validation_annotations.csv\"\n",
        "df = pd.read_csv(csv_file)\n",
        "\n",
        "# Iterate through the filenames and append \".jpg\" if not already present\n",
        "for i, filename in enumerate(df['filename']):\n",
        "    if not filename.endswith(\".jpg\"):\n",
        "        df.loc[i, 'filename'] += \".jpg\"\n",
        "\n",
        "# Save the modified DataFrame back to the CSV file\n",
        "df.to_csv(csv_file, index=False)"
      ],
      "metadata": {
        "id": "T9NBJheYmlCv"
      },
      "execution_count": null,
      "outputs": []
    },
    {
      "cell_type": "code",
      "source": [
        "import os\n",
        "import io\n",
        "import pandas as pd\n",
        "import tensorflow as tf\n",
        "from PIL import Image\n",
        "from object_detection.utils import dataset_util\n",
        "from collections import namedtuple\n",
        "\n",
        "def create_tf_example(filename, image_dir, annotations):\n",
        "    image_path = os.path.join(image_dir, filename)\n",
        "    with tf.io.gfile.GFile(image_path, 'rb') as fid:\n",
        "        encoded_jpg = fid.read()\n",
        "    encoded_jpg_io = io.BytesIO(encoded_jpg)\n",
        "    image = Image.open(encoded_jpg_io)\n",
        "    width, height = image.size\n",
        "\n",
        "    filename = filename.encode('utf8')\n",
        "    source_id = filename\n",
        "    encoded_raw_data = encoded_jpg\n",
        "    image_format = b'jpg'\n",
        "\n",
        "    xmins = []\n",
        "    xmaxs = []\n",
        "    ymins = []\n",
        "    ymaxs = []\n",
        "    classes_text = []\n",
        "    difficult = []\n",
        "    truncated = []\n",
        "\n",
        "    # Extract annotations for the current image from the annotations DataFrame\n",
        "    image_annotations = annotations[annotations['filename'] == filename.decode('utf-8')]\n",
        "    for index, annotation in image_annotations.iterrows():\n",
        "        xmins.append(annotation['xmin'])\n",
        "        xmaxs.append(annotation['xmax'])\n",
        "        ymins.append(annotation['ymin'])\n",
        "        ymaxs.append(annotation['ymax'])\n",
        "        classes_text.append(annotation['object_name'].encode('utf8'))\n",
        "        difficult.append(annotation['object_difficult'])\n",
        "        truncated.append(annotation['object_truncated'])\n",
        "\n",
        "    tf_example = tf.train.Example(features=tf.train.Features(\n",
        "        feature={\n",
        "            'image/width': dataset_util.int64_feature(width),\n",
        "            'image/height': dataset_util.int64_feature(height),\n",
        "            'image/filename': dataset_util.bytes_feature(filename),\n",
        "            'image/encoded': dataset_util.bytes_feature(encoded_raw_data),\n",
        "            'image/format': dataset_util.bytes_feature(image_format),\n",
        "            'image/object/bndbox/xmin': dataset_util.float_list_feature(xmins),\n",
        "            'image/object/bndbox/xmax': dataset_util.float_list_feature(xmaxs),\n",
        "            'image/object/bndbox/ymin': dataset_util.float_list_feature(ymins),\n",
        "            'image/object/bndbox/ymax': dataset_util.float_list_feature(ymaxs),\n",
        "            'image/object/class/text': dataset_util.bytes_list_feature(classes_text),\n",
        "            'image/object/difficult': dataset_util.int64_list_feature(difficult),\n",
        "            'image/object/truncated': dataset_util.int64_list_feature(truncated),\n",
        "        }\n",
        "    ))\n",
        "    return tf_example\n",
        "\n",
        "def main():\n",
        "    # Define file paths\n",
        "    csv_input = \"/content/NEU-DET/validation/validation_annotations.csv\"\n",
        "    image_dir = \"/content/Validation_Images/images\"\n",
        "\n",
        "    # Read CSV file containing image annotations\n",
        "    annotations = pd.read_csv(csv_input)\n",
        "\n",
        "    # Iterate through each unique filename in the CSV file\n",
        "    for filename in annotations['filename'].unique():\n",
        "        output_path = f\"/content/Validation_tfrecords/output_{os.path.splitext(filename)[0]}.tfrecord\"\n",
        "\n",
        "        # Create a TFRecord for the current image\n",
        "        tf_example = create_tf_example(filename, image_dir, annotations)\n",
        "\n",
        "        # Write TFRecord to file\n",
        "        with tf.io.TFRecordWriter(output_path) as writer:\n",
        "            writer.write(tf_example.SerializeToString())\n",
        "\n",
        "        print(f'Successfully created TFRecord for {filename}. Output path: {output_path}')\n",
        "\n",
        "if __name__ == \"__main__\":\n",
        "    main()\n"
      ],
      "metadata": {
        "id": "TdqnpH4emlAJ"
      },
      "execution_count": null,
      "outputs": []
    },
    {
      "cell_type": "markdown",
      "source": [
        "# Testing data in the tf records"
      ],
      "metadata": {
        "id": "qXEz56YH-3y-"
      }
    },
    {
      "cell_type": "code",
      "source": [
        "filenames = [\"/content/Train_tfrecords/output_crazing_21.tfrecord\"]\n",
        "raw_dataset = tf.data.TFRecordDataset(filenames)\n",
        "raw_dataset"
      ],
      "metadata": {
        "colab": {
          "base_uri": "https://localhost:8080/"
        },
        "id": "8U_FF5OES83z",
        "outputId": "9dbefa23-b272-406b-86b9-d6cb0e8d6993"
      },
      "execution_count": null,
      "outputs": [
        {
          "output_type": "execute_result",
          "data": {
            "text/plain": [
              "<TFRecordDatasetV2 element_spec=TensorSpec(shape=(), dtype=tf.string, name=None)>"
            ]
          },
          "metadata": {},
          "execution_count": 51
        }
      ]
    },
    {
      "cell_type": "code",
      "source": [
        "for raw_record in raw_dataset.take(1):\n",
        "  example = tf.train.Example()\n",
        "  example.ParseFromString(raw_record.numpy())\n",
        "  print(example)"
      ],
      "metadata": {
        "id": "MUmxyUuvS80Q"
      },
      "execution_count": null,
      "outputs": []
    },
    {
      "cell_type": "code",
      "source": [
        "import tensorflow as tf\n",
        "\n",
        "tfrecord_file = '/content/Train_tfrecords/output_crazing_21.tfrecord'\n",
        "\n",
        "# Iterate over the TFRecord file and print the contents of each record\n",
        "for raw_record in tf.data.TFRecordDataset(tfrecord_file):\n",
        "    example = tf.train.Example()\n",
        "    example.ParseFromString(raw_record.numpy())\n",
        "    print(example)\n"
      ],
      "metadata": {
        "colab": {
          "base_uri": "https://localhost:8080/"
        },
        "id": "bNABrVJpURhz",
        "outputId": "2a4c8890-71b5-458b-8cc1-3679eacd94b5"
      },
      "execution_count": null,
      "outputs": [
        {
          "output_type": "stream",
          "name": "stdout",
          "text": [
            "features {\n",
            "  feature {\n",
            "    key: \"image/encoded\"\n",
            "    value {\n",
            "      bytes_list {\n",
            "        value: \"\\377\\330\\377\\340\\000\\020JFIF\\000\\001\\001\\001\\000`\\000`\\000\\000\\377\\333\\000C\\000\\002\\001\\001\\002\\001\\001\\002\\002\\002\\002\\002\\002\\002\\002\\003\\005\\003\\003\\003\\003\\003\\006\\004\\004\\003\\005\\007\\006\\007\\007\\007\\006\\007\\007\\010\\t\\013\\t\\010\\010\\n\\010\\007\\007\\n\\r\\n\\n\\013\\014\\014\\014\\014\\007\\t\\016\\017\\r\\014\\016\\013\\014\\014\\014\\377\\333\\000C\\001\\002\\002\\002\\003\\003\\003\\006\\003\\003\\006\\014\\010\\007\\010\\014\\014\\014\\014\\014\\014\\014\\014\\014\\014\\014\\014\\014\\014\\014\\014\\014\\014\\014\\014\\014\\014\\014\\014\\014\\014\\014\\014\\014\\014\\014\\014\\014\\014\\014\\014\\014\\014\\014\\014\\014\\014\\014\\014\\014\\014\\014\\014\\014\\014\\377\\300\\000\\021\\010\\000\\310\\000\\310\\003\\001\\\"\\000\\002\\021\\001\\003\\021\\001\\377\\304\\000\\037\\000\\000\\001\\005\\001\\001\\001\\001\\001\\001\\000\\000\\000\\000\\000\\000\\000\\000\\001\\002\\003\\004\\005\\006\\007\\010\\t\\n\\013\\377\\304\\000\\265\\020\\000\\002\\001\\003\\003\\002\\004\\003\\005\\005\\004\\004\\000\\000\\001}\\001\\002\\003\\000\\004\\021\\005\\022!1A\\006\\023Qa\\007\\\"q\\0242\\201\\221\\241\\010#B\\261\\301\\025R\\321\\360$3br\\202\\t\\n\\026\\027\\030\\031\\032%&\\'()*456789:CDEFGHIJSTUVWXYZcdefghijstuvwxyz\\203\\204\\205\\206\\207\\210\\211\\212\\222\\223\\224\\225\\226\\227\\230\\231\\232\\242\\243\\244\\245\\246\\247\\250\\251\\252\\262\\263\\264\\265\\266\\267\\270\\271\\272\\302\\303\\304\\305\\306\\307\\310\\311\\312\\322\\323\\324\\325\\326\\327\\330\\331\\332\\341\\342\\343\\344\\345\\346\\347\\350\\351\\352\\361\\362\\363\\364\\365\\366\\367\\370\\371\\372\\377\\304\\000\\037\\001\\000\\003\\001\\001\\001\\001\\001\\001\\001\\001\\001\\000\\000\\000\\000\\000\\000\\001\\002\\003\\004\\005\\006\\007\\010\\t\\n\\013\\377\\304\\000\\265\\021\\000\\002\\001\\002\\004\\004\\003\\004\\007\\005\\004\\004\\000\\001\\002w\\000\\001\\002\\003\\021\\004\\005!1\\006\\022AQ\\007aq\\023\\\"2\\201\\010\\024B\\221\\241\\261\\301\\t#3R\\360\\025br\\321\\n\\026$4\\341%\\361\\027\\030\\031\\032&\\'()*56789:CDEFGHIJSTUVWXYZcdefghijstuvwxyz\\202\\203\\204\\205\\206\\207\\210\\211\\212\\222\\223\\224\\225\\226\\227\\230\\231\\232\\242\\243\\244\\245\\246\\247\\250\\251\\252\\262\\263\\264\\265\\266\\267\\270\\271\\272\\302\\303\\304\\305\\306\\307\\310\\311\\312\\322\\323\\324\\325\\326\\327\\330\\331\\332\\342\\343\\344\\345\\346\\347\\350\\351\\352\\362\\363\\364\\365\\366\\367\\370\\371\\372\\377\\332\\000\\014\\003\\001\\000\\002\\021\\003\\021\\000?\\000\\365\\257\\025\\350\\027\\236#\\360\\177\\207\\236`\\272v\\241ui\\344\\264q\\313\\261g\\225z3\\344\\220X\\036H=\\271\\307j\\322\\361\\277\\303X\\264\\215Z+\\355SRK\\347\\262\\227\\354\\367\\021$E\\010\\220\\022\\250\\214FAf\\335\\214\\236H\\000\\340\\234\\221\\350\\236\\033\\370u\\257|V\\360\\365\\236\\253\\252Z\\245\\264\\t\\016\\353{Wp\\2467vRYT\\025Tr\\033\\217l\\026\\340\\342\\260|O\\360\\222\\372-\\221jz\\205\\271\\270\\216a+\\334\\333H\\262o\\224!f\\033\\30671Q\\300\\004\\221\\301\\035\\311\\000\\302\\360\\250M-t\\t\\257\\303\\245\\276\\253z\\211p\\311\\022\\314`\\200H\\000\\333\\214\\214\\365\\345\\200<\\016\\271\\\"\\273\\235r\\363\\303\\272\\255\\364\\327\\232n\\251\\024\\257h\\263\\254\\323)_!b\\005P>\\325\\000\\271d\\\\\\343 \\r\\335x\\305b\\370\\212\\323G\\272\\360Z[%\\313\\211\\244\\215P\\250l\\262\\2718\\300u\\034r\\0069\\311\\306=\\353\\233\\271\\360\\236\\246\\367\\367\\261\\351\\326\\227\\267zU\\312H\\326\\360\\030\\332\\'H\\324m,0\\016\\000l\\014\\356=\\261\\324\\344\\003\\002\\313\\343Si\\372&\\271cmo\\245\\307u{:\\317%\\313!\\363\\331\\324\\226m\\240`\\344\\222\\027i\\356\\304\\361\\200+6\\r}u\\217\\rZjZ\\206\\245p\\227\\026\\216\\240E\\t\\220\\315&\\365\\333\\222x\\312\\202\\333G\\007\\2578\\353\\\\7\\305\\177\\262x6\\337H\\032\\364okq\\010[\\202\\321\\276\\350\\356r\\301\\201\\013\\264\\260~\\213\\3179\\004\\236\\300r\\037\\t\\2768k\\276\\025\\370\\217u6\\261\\034\\262h\\261\\211o\\\"S\\023\\004\\230\\222[\\007\\373\\300\\202@\\343 \\250\\030\\365\\000\\331\\375\\261,5O\\210~\\023\\212\\307B\\231n\\255\\240\\273\\212igw_1$H\\311a\\327\\346P\\257\\273vx \\214s\\221\\325\\370w\\303\\007\\304\\376\\004\\216\\320\\274\\323X\\233{x\\226h\\357\\031\\002>\\324\\316\\330\\327\\217\\231F\\016\\t\\306Ns\\315zo\\2024y\\274}\\340\\033-B\\362\\332\\010\\241\\270i#R\\270\\215\\237zl\\225\\235\\206[h\\330pNpXt\\0075\\314|d\\264\\235-\\226\\307I\\026\\266p[\\334\\306\\214l\\220(\\2022Pn|\\022\\240\\225\\334\\0160r\\276\\347 \\035_\\212<\\023/\\200t\\335&K\\233u\\324\\032\\326\\306\\322\\326\\r\\362\\002\\260#\\\"\\226\\371\\334\\200\\314X\\014\\200>\\370ld\\201\\231/5\\233I\\364t\\264\\320!K\\004\\211\\004\\255\\034\\277+\\310Y\\025\\024\\307\\267\\034\\343g\\034\\221\\264\\234\\347\\2466\\2532\\352\\367\\221\\244\\372\\275\\303\\351\\367v\\2237\\2256Y\\203 b>\\347\\250S\\236\\247<q\\214\\326_\\302=#J\\3255=;Q\\324\\265\\310l\\364\\251L\\366\\310\\315 \\023&\\320\\255\\346\\005#\\000\\3568\\031#\\260\\367\\240\\r\\037\\t\\350\\322|%\\325\\\"\\270\\226h\\256t\\211\\267\\033\\244\\2364d\\021\\235\\370*\\341\\260\\300\\014\\360OU\\350y\\257b\\322~#h\\277\\023-\\321t\\351RX\\355\\343\\211X\\tW\\314t.\\314B\\345\\200\\303\\0220\\000\\014X(\\365\\'\\211\\271\\370e?\\305\\311!\\323mf{]:\\336\\'\\222\\370\\371\\311\\266R\\307\\226P\\016\\322N\\345l\\001\\237\\227\\236\\243\\032\\336\\013\\375\\226-\\365\\357\\001>\\247oj,\\216\\231u\\266[\\225\\007\\313\\265uY\\030\\222\\344\\360\\304\\240\\300\\343\\031<w \\034\\227\\304\\r\\006{g\\325/\\354\\225,\\341\\363\\230G\\033\\313\\345\\311!e\\362\\310l\\260\\373\\255\\236\\006O\\314\\335p@O\\202\\336\\017\\327|\\031\\246^\\353\\032\\246\\235 \\2651\\2172t;\\216\\307U(\\334\\002\\177\\326\\005\\313\\014\\364\\007\\266+JKk/\\002\\350+\\244_\\315u~\\327\\367\\006D\\272\\2742!\\217\\3458\\n\\3529\\033\\227*\\270\\347w\\275?\\307\\177\\022\\256t\\233\\233=\\017\\303\\245d\\273\\3244\\217.-\\363\\242\\310\\034\\002~_\\230\\376\\354\\020FpI\\331\\234\\365\\240\\014\\375\\177\\303\\032]\\316\\247\\244j\\026en\\013\\334\\243\\272\\2071\\230\\206\\367L\\221\\214`\\005\\004\\014\\214\\357\\353\\315y\\275\\327\\217\\356\\345\\324\\247\\032LI\\024\\367\\355\\'\\220\\316Y\\313|\\333\\024\\343\\202\\2409\\307<\\222\\274\\234b\\255xb\\351g\\325 \\321n\\257F\\234\\363fC<\\205\\247\\343i\\371P\\016\\t\\'wOa\\326\\273;/\\205V\\332\\007\\215M\\332\\301yut\\252NT,K\\013/\\315\\270dr\\016\\0019 \\343\\035(\\003\\033\\300\\227Z\\367\\301\\313\\027\\323\\005\\363\\334\\334\\335F\\2538\\215YZ\\030\\200;\\323kc\\000\\021\\214\\3659\\034\\347\\\"\\275V\\317\\306zq\\3605\\362\\333\\331\\336B\\372\\324q\\264\\027\\322\\312Wz\\241,\\351\\264\\270\\3132\\267\\031\\376\\352\\343\\247/\\323\\274\\024\\267\\372\\010{\\310\\022\\306\\366\\352\\'c\\373\\327e\\2225\\003y\\363\\010\\306\\322\\n\\234(<\\003\\310\\311\\315-W\\340\\205\\367\\217\\2741\\2615]?K*\\353i\\032G\\033\\200au\\214+\\227\\004\\256B\\226\\317\\242\\373\\364\\000\\351tO\\212\\032F\\221\\341\\010\\336\\313O\\324\\356\\265\\013\\333\\026 \\002>\\313!BX\\312C\\0026o\\336\\273@\\035\\210\\371y<\\246\\265\\342mK\\304\\372\\242\\246\\235g<S\\010v[H\\205^I\\227\\013\\274lN@!\\272\\035\\277*\\237N{?\\210\\037\\001\\365?\\016\\370?J\\360\\365\\234\\322-\\302\\237%\\347,\\031\\n\\224\\007 \\253`\\235\\252\\270\\306H-\\234\\323/t\\304\\360\\357\\210\\364\\255b\\'\\262\\260\\212\\3123o%\\253\\315\\345\\245\\322\\221\\206l\\256\\3209\\335\\362\\226\\007-\\300\\310\\340\\003\\347\\017\\210\\372CX:\\263\\310\\032\\356\\325\\260\\326\\023+a\\260\\300\\263\\026\\007\\004n,8\\0353\\327\\234z\\316\\231\\361#J\\324\\346\\323\\343\\325\\255\\023H\\216\\035\\357,V\\3030\\310\\002\\210\\374\\267a\\273\\215\\352\\336\\333Ns\\330s\\177\\032\\014\\036\\034\\325\\240\\326\\255\\242\\324\\221\\243\\230\\301\\037\\235\\021\\362\\245eV,7\\026l\\252\\221\\316y\\333\\351\\322\\262\\265\\035fM\\177A\\262\\327u\\013\\205\\216;\\273o([Z\\253$\\267*\\273U\\231\\263\\362\\222K\\221\\330\\344\\201\\317&\\2006\\274}\\342\\037\\370N<!i\\243\\333C\\002\\331\\332^Eh\\311\\016JF\\315\\200e\\311\\341\\233\\237\\247\\037\\211\\341\\264\\017\\014x\\232\\035\\326+\\0346\\263\\177h\\263\\206U\\016N\\322p\\006x\\316s\\306p};W[\\246x\\206K\\2138\\243\\323#\\272\\323\\342\\210\\274\\355k\\344\\220\\266\\314#\\0006\\345$3\\002\\276\\335@\\301\\300\\305\\317\\033\\353\\327r\\370\\230\\313~\\320\\331\\334\\005K\\250e\\223tj\\345\\270%G\\016\\204\\227\\341O\\257j\\000\\340<[\\342\\275C\\303;-.!\\227\\355\\206P\\362\\\\*\\23742\\262\\354%\\306\\016J\\226\\307\\340zc%n\\3506\\327\\037\\025\\005\\315\\324\\222\\335\\3075\\262a\\\"\\231F\\333\\251\\025\\220\\223\\346\\017\\274APy\\'!z\\222@\\242\\200>\\211\\207\\342\\275\\317\\203\\233O\\207A\\277\\236\\365o\\357\\215\\315\\320\\236\\3269L%\\031\\232DP2\\006\\016\\354g\\257\\000\\3475\\312[x\\366_\\020\\370\\207N\\202;k\\005\\027\\027Fy\\000EV\\224\\005eH\\276~\\201Y\\244\\035O8\\301\\030\\254\\237\\001\\3744\\263\\320\\355\\017\\366\\205\\302\\353~%\\276\\235\\\"\\262s\\033+M\\021\\010\\037\\313\\301\\000\\25089+\\311\\300\\347\\240\\336\\274\\360\\306\\243\\341o\\037\\256\\254\\367\\352\\326+\\033\\226\\221\\344\\022(~6o`0\\244\\2058\\034\\036A\\357\\212\\000\\206\\367\\302\\322\\r6\\323]\\274Hl\\356\\'\\303Kf\\210\\321\\307o$n\\214\\3140\\t#s\\021\\203\\203\\3078\\030\\256z\\037\\211bo\\025\\316\\272|\\261\\3527:|r\\213Gb\\305-\\320:\\261\\231T\\036\\016\\360\\034`q\\234r1\\216\\333\\306\\336\\002\\225u\\371\\242\\373u\\311\\264k\\t%\\274\\021^b\\033\\2371\\221\\267F\\t\\300\\332\\262`.2H\\317Lc\\303b\\360\\316\\257\\360\\377\\000I{\\035\\036\\003q\\251j\\202\\344\\265\\336WlA\\200a\\317\\256\\322\\0062\\001#\\266\\001\\240\\014?\\213\\272E\\247\\305\\303j\\327\\206&\\021\\334B\\352c\\t$a\\227n\\3420>\\350\\034\\001\\220G\\3129\\034\\034\\253\\037\\n\\3501\\370c^\\265\\222\\342{\\215\\2234C\\367\\003\\230\\323\\225\\005\\270\\333\\234/\\035I\\003\\2579\\346|\\025\\252\\353\\332m\\244\\320jM \\325K:[6\\334D\\250S\\313G\\'\\031\\300\\343\\035\\206\\007\\\\b\\272\\315\\\"\\326\\357\\341\\306\\205\\252jZ\\244\\222]\\331j\\t%\\223\\312\\327@\\223*\\224l0^\\006T\\366 \\374\\340u\\342\\200=\\273\\341\\003i\\276/\\360M\\246\\211w\\246Y\\305\\035\\214\\002F\\n\\357\\233\\226h\\344\\332\\245\\033\\214+\\250V8\\311\\310\\347\\234\\216\\013\\307\\272e\\317\\203b\\324a\\324l\\211Y\\244\\217\\355B\\340\\266\\333r\\322\\207\\303l\\301\\371\\231\\310\\0309\\000\\014\\216\\242\\244\\370s\\342\\033_\\021iw\\013\\002\\375\\203V\\206=\\320\\335)fS\\2201\\033g\\214\\016\\244\\203\\320\\340\\216\\rh~\\332\\337\\026\\017\\205\\177d+\\210c\\216\\323U\\324\\357\\243H\\246\\222;b\\242%\\n\\305\\034\\270\\004\\235\\254\\214\\274u\\007\\234q@\\034-\\376\\255m\\361#B\\265\\206\\323P\\223F\\373%\\274\\326\\376r\\306Uf\\306@`q\\334\\250\\343\\007$\\223\\203\\301\\253zg\\303\\310\\327Z\\265\\323\\036\\352\\341\\347\\265\\323\\322kh\\367oYL\\201v\\306\\024\\014e\\2338\\035\\2063\\236E/\\303\\275/\\303\\372\\377\\000\\301]>\\375/\\227O\\324\\036\\\"\\257\\2041\\211\\030\\200\\001\\0318\\000&\\030`d\\227=\\206\\005\\217\\n\\352px%la\\215\\347\\276\\324\\365(\\271\\226@A\\n@L\\201\\214\\345CI\\222Fz\\034\\320\\007q\\340\\017\\006\\352\\376\\023\\360\\321\\322o\\236)\\014\\r$n `X\\341A\\303\\037\\356\\375\\336OQ\\352F\\007\\246i?\\026\\343\\360\\345\\266\\255\\246D/\\037E\\270\\272\\221\\221\\005\\302\\260\\226\\025\\317\\236Km\\031\\313G\\030\\003\\003=\\2275\\346\\255\\342\\275B\\316R-\\322U\\323\\365\\tIy\\256U\\326%\\373\\273\\266\\234\\340\\203\\313|\\304\\021\\300\\366\\034T~+{\\337\\rj\\245\\265)\\225\\257\\341\\334\\254\\'\\020\\250\\\"U_/\\252\\200\\016w6:\\372\\034f\\200=\\342\\177\\000i\\177\\035\\274=\\022\\317e\\177zaY\\2128\\213>U\\250\\215\\230\\007\\300\\0002\\355\\215\\273\\027\\007\\361\\036e\\341\\177\\200Oa\\255\\215BD2^\\305g4\\261y\\356\\254\\0256\\203\\265\\235z;\\022\\313\\327 \\025\\343\\216X\\277\\0265\\337\\021x?TE\\325[J\\021\\315\\366m\\366\\256\\027|[6\\202\\333F\\017\\313\\363\\0362@\\'\\370k\\177\\303\\0365Xot\\213kK\\330d\\324/\\231l\\356\\205\\304\\256^&\\214\\267\\231\\306\\177\\210\\234\\223\\317@\\t\\344\\320\\007>\\336\\002\\325\\376 \\370)\\265\\347\\323\\223\\301\\357mz\\277ew\\005\\345\\274\\224y\\247he\\037(\\334\\270\\371T\\003\\273\\22223\\321h\\376\\026\\324\\3749b\\2115\\305\\355\\364\\272\\214\\256\\212L\\270K\\311\\001\\207|`\\206a\\374Q\\023\\307W\\317\\246*j>*\\276\\360\\307\\213\\254lo\\247\\226i\\222\\355\\357o\\026W>\\\\le\\022mTa\\327nT\\365\\035{\\3275\\252x\\232o\\033x\\356\\306\\013kY\\215\\335\\214\\263\\006\\232)\\312\\\\\\243\\225\\033\\337i \\'\\316\\203\\356\\343\\357\\017l\\000{o\\213nt\\275\\017N\\265\\262\\237N\\215\\347\\263\\260ky\\234L^\\333\\226P\\333B\\2572n\\332rF\\tV\\000)#\\025\\374;\\343[\\243\\341H\\365K\\211.4\\355B\\341\\021@(\\307,\\020\\206\\'\\n\\252x\\005NG\\035q\\322\\271\\313\\2152\\363C\\323\\344\\263\\212\\311\\245\\236Y\\347\\224\\334\\310\\344\\272\\263\\023\\345++\\037\\2338o\\233\\251<q\\337\\246\\323u\\253\\215Z\\332\\013\\311b\\267\\264\\217L\\273\\222|\\307:\\253H\\002o)\\223\\362\\266\\024a\\210l\\2660\\001nh\\003\\270:\\243\\374>\\321\\264\\235J-JO\\020[\\333\\300\\345\\341\\271!\\242\\337,\\204FZ?\\274\\212\\246M\\343\\346\\035\\007\\266p\\274i\\360\\246\\337Z\\322\\365\\013\\231-\\236\\343Q\\274+!\\206Y\\201\\207{\\005gx\\310\\317\\n\\245\\216pB\\250\\306y\\031\\271\\254|\\'\\325<W\\341\\373]Y%\\323\\264\\333eeX\\255V\\340\\313,\\2779U%W\\204\\313g\\246\\010\\037\\335\\300\\007\\256\\370w\\342o\\017M\\3413\\245\\337\\213\\330\\332\\322\\t\\036K\\246+\\034\\027\\227%pv\\257R\\214|\\341\\307\\313\\214\\022\\016\\000\\240\\017\\017\\370\\307\\340-\\037K\\360V\\206\\227\\366\\3154\\256\\206\\336\\324\\010\\313\\225P\\212\\t\\332\\030mo\\233\\327\\036\\335\\005`x\\223\\301\\037\\360\\207\\370Z\\3117\\254\\3663\\300\\004\\311\\013I\\233L\\266\\3573\\014s\\222H,\\010\\000l\\3528\\253\\377\\000\\035>\\\"kz\\204z]\\363\\245\\215\\3046\\320\\037\\272\\201\\004J\\314\\010T\\030\\3526\\247\\314A?w8\\004\\021\\304x\\323\\342\\215\\246\\275\\341\\310#\\323\\326+\\273\\353\\351!\\026\\326\\215\\021\\302\\200\\2400.x9\\311\\302\\214vc\\3114\\001\\201\\342\\257\\025_]]j\\266\\032\\036\\243)\\265K\\310\\342*\\177\\343\\346<\\276J#\\016\\203nI\\340g-\\307J\\3465\\257\\202Z\\227\\304\\035f\\352\\373[\\325\\235\\'\\222\\347\\354\\013)m\\277&\\001\\0308\\311,J\\340\\214\\344\\347\\\"\\246O\\030E\\340\\250\\264\\350\\265}.\\023\\252_]\\210Y\\243\\224\\262\\224\\350\\247*v\\222Tg\\221\\307\\257j\\365\\211\\3741t\\276\\005\\027\\232l\\241\\354\\210\\216[dg\\337)\\230/\\000\\356?!\\371\\033$\\0200\\303\\2578\\000\\347\\365]\\037\\303\\277\\t\\374\\021%\\254\\027\\323\\352w\\366\\027!\\014\\320\\314\\314\\0362\\301\\313\\347\\214\\000\\001Q\\307\\034\\223\\202V\\212\\273\\340\\3752\\343Q\\321\\365\\213\\233\\331\\024\\331B\\263\\244\\363\\312\\304\\252n\\377\\000\\226`\\355 \\222rs\\306@\\035\\tQE\\000wc\\304P\\370\\213\\3046\\272\\216\\217y2\\\\\\351P-\\204R\\315h\\362$a\\016\\335\\300\\220y\\334[8\\'\\224\\340\\203\\214w\\037\\264W\\304\\337\\004x\\221\\254e\\202kh\\265\\t\\374\\253\\031m\\247i\\\"\\213\\312P\\025\\344\\332\\204\\375\\346\\306:\\0023\\332\\274\\277\\303\\272\\204\\357\\256\\353z\\246\\214\\211yk\\004\\320?\\330&A7\\220_2\\223\\202\\253\\215\\254\\330 \\361\\222z\\340\\232\\314\\325~\\037\\037\\031\\370~r\\317\\024\\3276\\2636\\240\\211\\013\\356\\362\\025\\230d\\0229\\005\\025\\201\\007\\200\\240\\221\\236\\364\\001\\353>1\\327m<W\\340\\255/V\\320\\365\\033{\\333\\211\\237\\354\\301_h{c\\260\\225#\\034\\347tj\\007\\034\\016\\006s\\232\\341\\257\\374s\\016\\273g\\006\\223ikc\\034\\360\\001\\025\\363\\276\\330\\2132\\220\\300\\222\\331\\013\\323h\\301\\347 \\366\\257,X\\205\\267\\210&\\270\\323\\357\\247\\322\\225mv\\333B\\2300\\312\\354\\300J\\2709\\345[\\004\\223\\317=\\353\\037\\304^2\\265\\360\\026\\265\\2424\\272\\204\\032\\216\\253\\254\\302\\212\\317l7K\\020*\\316\\3078\\033\\035p\\203\\037\\256\\010\\240\\016\\243\\304^ \\323c\\361\\355\\334\\022N.\\244\\206\\371Y\\266\\333luRT\\220B\\363\\2602\\226\\343\\240^3\\220k\\213\\370\\253\\340\\250\\365\\215=\\340\\202[\\211\\222\\rA\\245\\\\\\201\\034O\\003:\\215\\3527e\\2136I<\\217J\\346<Uw\\257\\376\\316\\032\\225\\366\\257l\\343Q\\271\\324\\354\\205\\254\\260\\336\\\"\\316\\320\\310\\322\\022$\\313\\235\\271\\302\\347#\\236\\207\\0309\\253:\\'\\305\\251\\255<%w\\253\\370\\222\\336hm\\243k[ki\\355\\343e\\215#b\\3620U`A\\004\\234\\367\\343\\037@\\001\\350\\236&\\360\\335\\207\\301\\377\\000\\2077:\\265\\305\\235\\267\\317ym,\\271\\223\\313\\2220\\340\\200\\275O\\361\\002\\006}A\\301\\255\\177\\023\\370\\337H\\326~\\032]\\351q\\\\\\307%\\277\\210\\267\\213[\\177\\274\\\"bF\\340wt]\\243\\203\\223\\201\\311\\000\\364\\3639\\264-K\\343\\317\\2104\\215.\\023\\267\\303\\022\\304\\262\\251\\273\\234C%\\330\\216F\\0370l\\036[\\214\\214\\347h\\300\\310\\305K\\343\\357\\200\\032\\355\\222kZ\\264\\021Ib\\332}\\207\\231o\\261\\025c\\200\\310\\352|\\240>\\222\\374\\330$\\023\\355\\324\\002/\\025\\330\\303\\255\\351:\\017\\203-\\355\\016\\217\\004M\\347\\\\<R\\274\\305\\020\\304$@\\253\\330p\\006H\\007\\346\\317\\255p~/\\361\\367\\210\\027R\\322\\364\\273\\004+o5\\344an\\232EA\\r\\256\\341\\274\\357<\\202\\n\\r\\330<\\347\\034\\223]\\337\\302E\\277\\203J\\324\\265\\315H\\033\\335AR3k\\024\\304\\306\\367\\022\\205_9q\\313\\022\\024\\205\\030\\343\\320}\\343Q\\370c\\341\\224>.\\360\\301\\264\\277\\212\\316\\322\\371\\256I|\\206s0\\336\\003&x\\332\\240\\034\\214z\\373\\320\\007_\\361\\017\\304Z*\\370\\246\\302;\\373\\333\\345\\207O\\261B\\2620\\3345\\006l\\261\\220\\014\\234+\\002\\307\\003\\260_Z\\346\\255\\341\\260\\370\\235\\247\\264\\226\\232d\\221\\255\\2234\\352\\227\\033\\224+\\264nv\\004\\030$\\236\\304\\002\\001\\031\\317\\00764\\277\\017\\313\\245\\374M\\003\\304\\027PiZ\\024BE\\265\\270\\271}\\353\\345\\251\\335\\032\\340\\234\\347\\346\\000\\216\\340w \\232\\350|\\006\\223i\\376!\\2368\\256\\330\\303r\\216\\256\\221\\310\\241\\246\\211\\243<\\240\\350\\007\\335\\004\\223\\234;c84\\001\\312\\351z\\027\\212m\\276\\022\\317\\266[\\245\\271\\270\\220\\254\\226\\341\\003%\\313\\203\\205\\nG8Uc\\236O\\007\\031\\343\\215\\217\\203WZ\\027\\200|Z\\262x\\307P\\272k+\\210\\244U\\234\\222\\250\\255\\264<\\254\\001m\\330\\317\\312\\016s\\223\\3508\\366\\233\\257\\2127\\036\\r\\370Wc\\250\\177\\3029\\r\\307\\210\\035&\\266\\260Y\\340\\014-\\374\\306\\332\\030\\267\\031\\302\\341\\2060\\006\\323\\352s\\344\\377\\000\\r\\364\\035O\\366\\207\\327\\265U\\327-\\206\\233k3[[[\\220\\244\\257\\356\\327.\\375\\010\\301\\'\\266s\\203\\354(\\003\\210\\361\\007\\304\\3157^mSM\\360\\362]\\336j\\367`\\230%_\\335\\311\\0036U\\344\\014~`\\0240\\001s\\222Kz\\342\\233\\242\\374=\\370\\213\\360KP\\265\\324\\241\\022_O5\\242\\264(\\312dh\\203\\256H \\2149n3\\203\\370d\\020=#T\\360\\346\\205\\340\\377\\000\\211\\027\\237a\\321\\033Ix#{yo]C\\031X\\022W\\240?:\\242\\257\\317\\301$\\0169\\257J\\360\\277\\210\\343\\276\\326,4\\273\\375F-B=6\\315\\247\\223\\0043D\\344\\002\\241]\\207~\\235\\317\\3163\\307 \\003\\214\\375\\236\\233[\\370\\366\\326\\272\\'\\210oF\\227\\342\\035$\\221j\\025\\231du\\334p[\\'!\\227+\\214c\\251\\003\\232\\364o\\036\\3503\\374!\\360}\\352\\336_\\255\\335\\245\\275\\314\\211:G(\\306\\320\\307qV n\\\\\\344\\340ug\\340\\234\\032\\363\\317\\213^\\007\\325\\364K\\275?X\\320\\236X5\\213X\\315\\266\\2430\\217)\\262M\\246?\\233\\235\\240\\002\\254\\240\\221\\235\\303\\'\\201\\234\\030\\365\\017\\023\\370\\236\\372\\332?\\024\\331\\306l\\341p\\255b\\\\\\312\\367\\033\\000\\375\\336\\3201\\264\\203\\306v\\214\\222\\017LP\\007\\326\\377\\000\\004<Kg\\342\\217\\203q\\336h\\255m\\250\\336j\\022\\243\\305m\\013\\262\\311\\345\\316\\014x9\\311\\0022I,\\243?w?1\\335\\\\\\276\\273\\253K\\360\\373\\305\\322\\370h[\\305\\366\\221\\024\\223\\010g\\223l\\222\\261\\371e\\214\\221\\202A\\311P{\\014\\016{y<\\366Z\\257\\202\\374F\\272\\347\\303\\010\\365\\033}V\\334(\\267\\202IY\\\".r\\333\\020\\236A\\014@$s\\226\\000\\036\\206\\267\\265\\277\\207>-\\370\\263\\341\\333\\215g\\306\\327qh~>\\203J\\r`\\236c$,_\\224C\\270\\200\\270L\\022\\030\\037\\365\\235\\311;@8\\337\\037x\\273Q\\271\\324\\027O\\262\\322m\\005\\276\\242\\202\\321n\\330\\263,A_\\033r\\010\\005\\270\\001\\217\\003\\277s\\230_\\301\\226\\372\\216\\241\\014V\\226S\\t\\225\\223\\312F\\224*Z\\001\\276M\\312rF@\\013\\323\\037w$\\023\\305V\\370g\\361\\336\\303\\300\\037\\t\\207\\207\\274a\\244Ge\\342\\215 \\\\\\240\\220\\345\\232\\356BJ\\006\\007\\005v\\222rA\\340l\\316s[\\332[Mw\\255i\\027Z5\\325\\255\\366\\255t\\013K\\034\\263\\231\\225ex\\313\\004\\220\\217\\272\\300\\2537\\312p7{\\344\\000T\\212\\363O\\320!X\\357\\355-\\257\\256\\255\\257Lv\\271\\210]\\260\\225B\\215\\345B\\3551\\251rw\\016\\371\\3062\\t\\261y\\343m\\'O\\361\\276\\241:$W1\\255\\252\\245\\215\\224\\010\\260 y$]\\355\\264\\2366\\252\\271\\004\\367c\\201\\316C|y4\\217q<v\\032+=\\323\\306]/c\\221\\213\\306UA\\335\\270\\214\\014\\000@c\\214\\225<\\034\\022p\\264\\337\\t]\\352\\272\\005\\275\\377\\000\\227\\034\\332\\202\\300\\270\\373C\\260\\362@\\036aN>Uc\\215\\336\\355\\301\\340\\232\\000\\364\\0139\\345\\370\\300\\372\\331\\0266\\253\\244\\331s\\014\\273\\276\\314\\263\\230\\342H\\325H~7p[\\250\\'=(\\256c\\303\\272|\\332\\327\\203\\356\\304\\032\\255\\3040ie\\310\\022\\000\\\"\\225I\\006D\\311\\371\\213\\226\\n2\\000\\340\\234\\361E\\000]\\370\\211\\241\\276\\255s\\342;-\\002\\372\\376V\\326gG\\263\\226\\030\\004m\\016K(U\\225\\307\\010\\252O\\241<\\036G\\025\\277\\341_\\r\\307\\341+MV\\030,\\327Y\\272\\263\\262[!\\035\\345\\347\\227#\\014\\237\\336\\374\\270\\004\\035\\231#\\222N\\345\\310\\034\\326?\\212\\376+\\\\\\374(\\360\\325\\226\\267\\246\\333^[K\\250X\\255\\2241\\250s\\032\\034\\2052>T\\002J\\341r\\204d\\222O\\240\\207\\300\\036\\020\\324<Y\\340\\213-F\\356\\354\\035SYG\\206\\372H\\343\\235\\336\\007\\000\\234\\234\\236A\\014\\000\\311# \\365\\310\\004\\002?\\021\\233\\017\\r\\370\\272\\311\\240\\273\\323d\\264\\264\\20256\\236S+\\253;\\206(z\\206\\3101\\203\\306yRN@5\\344\\372\\337\\3026\\322o\\256\\274e\\035\\244\\306+UYP\\264\\370`\\014\\217\\263\\001H\\n\\001\\033\\217^\\212:\\223^\\275\\343\\337\\204\\253cq\\241\\315\\245\\275\\364W\\367$\\264\\222\\260\\r\\034\\222\\221\\271$|\\344\\234\\022:r\\244\\016\\375<\\273\\342^\\263\\256x\\232\\306\\343@\\271\\267\\235%\\263\\214\\303,\\373\\313y\\247{\\034\\343 \\005\\357\\337$s\\3274\\001\\225\\361+\\304\\253\\251k3YkOj\\326\\332\\225\\210\\275\\225!U\\214\\254\\317\\222\\n\\221\\234\\0021\\330u#\\266+\\252_\\205:O\\217\\276\\033\\370^\\336W\\270m>VS=\\270B\\352\\256\\t\\nX(\\340\\2609\\000\\023\\214\\014\\327\\230x\\257\\341\\376\\251\\257\\332\\332\\352p3A\\034&+R\\323 V\\221\\033\\345,\\000\\355\\367}\\007\\003\\035\\353\\327|}\\342;\\257\\205\\377\\000\\005\\241\\236\\320O4\\255\\023\\306c\\332\\336\\\\d\\272&T\\021\\214\\200\\315\\316}}r@:\\357\\022\\353~\\035\\3606\\233\\026\\235\\247_[\\331\\313k\\002\\255\\264\\215l\\270h\\313n!\\260Ku\\004\\014\\362I\\'\\246MG\\251Y\\334|=\\321\\255\\237H\\325\\256\\265[\\275V{)\\277\\263\\312;\\306]v\\203\\275H\\332w(\\007oM\\244\\034\\232\\343~\\013h\\226\\367\\332.\\245\\251\\337\\301uk\\014\\021(Y\\246\\205I\\236\\\\\\001\\205\\337\\234\\270\\034\\377\\000\\017\\361b\\272\\237\\006\\245\\335\\317\\307\\253\\371\\220Y\\r-a\\225\\354\\345\\275\\314w*\\314\\002\\355\\t\\031$\\020d\\014\\247\\247\\003\\222x\\240\\0167\\306\\3766\\203\\302\\376\\r\\361\\006\\222\\332(\\233]\\222G\\362\\305\\275\\274\\221=\\222\\031c\\007\\346\\334W\\031\\000\\361\\236\\007~j\\307\\206Z\\316\\013M#M\\270\\271{\\204\\270t*\\267\\010\\361\\231\\335\\242\\334\\361\\356\\373\\205\\217\\034\\347$\\216\\375+s\\366\\251\\265\\266\\370k\\340\\335&Y\\2225\\236\\352\\352\\336\\0215\\254On\\350\\204;\\035\\333\\227s\\006g\\\\\\340\\344g\\200Fq\\036\\225\\256\\370N\\327@\\267s\\240\\337jSDco9Ud\\021\\231\\024\\342F\\014F\\346\\001\\260W\\003\\030\\365#\\000\\007\\305\\r\\027I\\3617\\216tKI\\364\\353y\\254\\254\\343/hcE\\377\\000I2*\\261\\214\\21670\\340dw\\311\\310\\315q\\036&\\320\\274Gu\\255%\\326\\213\\024P\\351\\261\\310V8\\225<\\304\\007\\000:\\035\\247;~f\\\\/M\\213\\337$\\355\\332\\370n\\363\\302:\\315\\217\\213\\264=Q\\2564\\353[\\222\\222[\\037\\337\\210\\220\\234M\\230\\376\\360=\\016\\341\\323q\\3069\\257]\\370Um\\241\\370\\366\\013M\\022\\322\\001i\\252j\\215\\037\\227:\\333\\310\\251i\\222\\344\\263\\026!\\324\\r\\270\\300\\014H~0N(\\003\\306<Q\\377\\000\\t{\\370\\'F\\271I`\\263\\233U\\235\\254V\\321du\\232\\331\\243A\\231\\0108\\340\\244\\200\\343\\237\\345[\\376\\r\\361P\\321\\2741d\\267Z\\234Sx\\216h\\235M\\301 5\\256\\345\\371\\037\\241;\\224!\\\\t\\340\\016)~,|(o\\n\\370]\\265\\353\\311\\237SX\\256\\345\\267\\264ky\\214fG\\005A,\\0178ex\\373u<\\344\\234\\325_\\001xR\\023\\256[\\350qY\\2315;\\341\\347\\312\\231.\\256\\245\\\\\\202\\315\\375\\342X\\347\\240#\\216\\r\\000a\\333\\370\\335u\\327\\3244\\340\\246KAn.\\347\\231r\\316w2p\\n\\361\\222b\\004\\006\\031\\031<r\\rt~\\016\\370\\265\\247x/T\\216\\343O\\321\\242\\226\\342\\362\\311!\\270i\\343\\363VM\\301\\016Pu\\014\\016A\\316r\\030{W\\037\\342\\337\\006jv\\327\\372\\035\\225\\246\\23542]O\\345\\\\\\312\\200\\304\\344\\202\\330\\211\\272\\206\\300\\332Oo\\227\\236\\365\\330\\336\\332\\267\\235\\243\\351\\327\\032|wS\\336Z\\311$\\023.\\032H\\331\\000\\304\\205\\220\\340\\222v.{\\234\\001\\367\\216\\000=WE\\370\\267\\256j\\232\\025\\206\\226\\2728eY\\246\\222G\\224F\\034\\261\\007\\313\\334\\244c\\216NGR\\303\\0308#\\254\\320\\274a\\341\\317\\370C\\246\\222=\\\"q\\342\\230\\326X\\304\\263\\200\\202\\335\\225\\211\\330\\2777\\030\\336z\\366@985\\344\\372\\017\\210.\\365\\215\\032\\031b7F\\361.\\013,\\333\\210\\026\\350\\254c\\306;\\250\\317\\004\\223\\214{\\201^\\233q\\254\\331\\334\\370*\\013\\005\\323\\244\\275\\324\\341\\230J\\3272\\312\\304\\313\\274\\225W\\362\\327\\346v\\r nrN\\320~\\355\\000T\\360\\027\\303\\315#S\\361\\035\\214Iy\\024\\261\\330\\312dT\\007kL\\362:\\357m\\3220\\300B\\344d0\\307\\004g\\232\\351\\276/|@\\360\\344\\376$\\213Ok\\3514\\333\\023/\\225\\262\\\"&3\\307\\034g\\007\\223\\260\\362\\321\\214\\026\\317\\003<\\022+3\\303\\266\\232\\307\\205ou;\\201\\2464\\272\\255\\304o\\346\\307<\\033\\226\\335\\334\\2200~\\362\\341\\271\\'$dw\\'\\006=K\\341\\004Z\\237\\205n4\\235~D\\322\\265f\\266Wr\\250dUfb\\376o\\031\\341\\225\\002\\361\\352\\247\\241\\240\\017\\236\\277k/\\207\\232^\\245\\361>\\333R\\260\\265\\236\\013vt\\332\\261\\224\\304AH\\334\\354\\212H+\\271O\\315\\200\\010\\333\\3379\\233I\\360u\\267\\303\\225\\320\\355\\364{U\\212\\322\\344\\213\\253\\253\\270\\2134\\205\\316N\\n\\347$\\021\\201\\201\\330\\036q\\214v?\\020</m\\340k9\\333Q\\267\\236\\004\\270{\\210\\315\\360vt\\231X\\237\\233\\256p\\337!\\007i\\356G \\327\\037\\254x\\203M\\370\\201\\240\\333\\333[\\233\\273\\233\\327\\362\\301\\271\\272\\214\\300\\245\\266\\025\\332\\240e\\210\\001Xd\\002\\330\\300\\316H\\024\\001\\217\\342o\\211\\032\\276\\257\\252^\\315j\\226\\3676\\361\\260\\266\\222\\332<@]\\002\\001\\310$\\235\\371\\336O?\\304{\\0365uO\\023Y\\333\\332\\301\\031\\027\\326r$i\\347\\307y&\\350\\235\\376G\\310;\\206\\334q\\236x\\301\\034\\214\\032u\\347\\303\\371\\357\\364H\\246\\027%\\256c\\275\\215e\\222Wd\\016\\243\\202ry\\003.1\\222q\\354j\\246\\265\\t\\325\\254\\026\\312\\350Moi\\013\\261\\226F\\'2\\271%r\\247\\203\\263h\\035\\361\\221\\317\\\\P\\006\\377\\000\\3048t\\315_\\300\\266W\\360\\352\\320[}\\250D\\223\\303os\\275\\013\\354Q\\200\\277*\\375\\345\\353\\311<t\\316I^i\\341m\\\"\\327\\342\\275\\256\\251\\247^\\\\\\233\\313=\\\"\\341\\304_9Ied\\004\\256\\030\\347\\267|\\021\\300\\347\\260(\\003\\351\\177\\202>\\003_\\210\\377\\000\\0214\\2759\\344\\210I\\003\\303\\016/-\\302\\333\\305\\270\\204V\\310\\332\\331V\\337\\201\\201\\317\\030\\301\\315G\\3612\\346\\377\\000\\300\\267>$\\360\\355\\325\\355\\224\\037b\\324\\'\\224\\332G\\032\\252\\262FW|\\212\\375\\367`\\223\\203\\3748\\356\\005Y\\322~\\025\\336\\370\\033T\\326../\\235nM\\326\\331\\346-\\\"\\303\\373\\306a\\270(;\\266\\340\\\"\\355\\352\\271^\\231lr\\236\\021\\321n|k\\361V\\341|A\\252:Esn\\246T\\266C\\034\\222D\\337/\\222\\013\\271\\014\\010*2[\\323\\334\\020\\016\\017\\366\\211\\361L\\007M\\260\\227H\\265\\221\\242\\266H\\336\\031\\243\\332\\353\\205,\\330\\220\\003\\303m\\347\\237\\3441M\\321<5\\244x\\212\\315e\\223W\\272\\275\\3255%Y\\322\\336\\010I\\226\\337r\\003\\264\\267\\335\\332Ia\\300\\007\\345\\034\\363\\223\\3533\\374&\\360\\234\\236\\'\\222\\361\\255n\\323L\\216\\001\\n@\\2042\\334\\345\\266;)\\215\\316\\031\\300\\'\\206 \\374\\334\\236I\\362\\357\\214\\022\\370{\\302?\\021N\\231\\241Y\\317\\\"Ec\\034\\262\\271|\\025Q\\034g\\201\\226\\r\\227g\\000\\002\\010\\317^\\005\\000x\\307\\355A\\036\\255ya\\341\\373m\\006mAg\\267\\325]nL\\016\\245\\033\\001b\\'h\\3506\\250\\343\\256I\\346\\275\\006\\333\\343\\245\\335\\337\\302\\275\\037L\\361\\026\\221}\\r\\264qG-\\234\\256\\245\\347\\313H\\312\\351\\201\\220[\\346\\031\\007\\220\\177\\336\\256~\\321|S}\\342]\\\"\\346[I-tYn]\\3124M\\032\\342A\\277\\014\\334\\234\\023\\300\\3162@9\\357^\\215\\341M{@\\370\\227\\360\\362\\325\\367\\311ym\\247\\352\\022B\\361[\\306\\255?<\\261\\335\\234*\\226\\034?\\'\\013\\334b\\2009+\\037\\332F\\343\\303\\036!\\271\\321u\\270m\\340:<FT\\267\\223\\367\\261\\030\\233~\\001\\030#z\\253\\000\\000\\364\\030\\365\\256Z\\367\\343\\016\\275.\\243\\177\\361GO\\234\\332\\351ZQM>\\306\\037 M\\014\\357\\264|\\333z\\234n\\374\\360x<W\\271\\351\\376\\017\\3607\\305?\\021\\335}\\273I\\323\\255\\3658m\\235\\356\\316\\245\\265\\004M\\033\\215\\203\\251\\311\\021\\204$\\361\\270\\217\\366\\210\\243B\\360\\336\\231\\343\\177\\206\\332\\314R\\243iz^\\234\\257ik\\r\\234d\\333\\227dRT\\205#\\030*6\\220\\274\\341}\\305\\000x\\306\\275\\343\\357\\210\\277\\264\\267\\300\\313\\310,\\364\\373=SK\\272\\224}\\226\\356\\325\\037\\316\\215\\320o\\226v\\n\\273\\360\\250\\333p@\\344\\216+\\247\\370@\\3362\\322\\237K\\322-\\256\\364i-\\265{\\244u\\206\\372\\333\\315dM\\245c$\\204P\\001\\003\\030\\352\\013\\344c\\001\\253\\321\\276\\034|0}\\003\\306\\326\\276\\007\\360\\345\\265\\235\\243h\\272\\\\Z\\223\\352\\033\\232#\\030\\223knG\\'w\\337d\\300\\031$\\256\\006@\\250\\254\\355\\357|%\\342M\\\"\\375\\'\\207[\\276\\262Ye,\\035RE\\363\\035\\225I\\000}\\322X\\036\\271\\005O\\013@\\020\\370\\342\\373[\\360\\276\\247e\\247\\351\\272>\\226u\\017\\017\\332\\230.\\357X\\225I&h\\333yH\\333\\000\\216\\2740|\\360q\\214\\023\\'\\3024\\326\\274\\021\\253\\037\\020X\\305k\\250k\\023\\304\\263\\215\\254\\020$\\210\\250\\354F\\356O\\312\\270\\007\\221\\222y\\0305\\027\\304\\335W\\306:\\326\\275i=\\314\\260\\335\\033\\306\\303\\003j\\031\\221\\3034 1\\000\\237\\224l\\301bNc$\\023\\306)\\374\\034\\324\\327P\\370\\207o\\2470M>\\346\\010H\\373\\242\\030\\200\\362\\327\\215\\270$\\226g\\031\\310\\317\\034v\\300\\007o\\340\\375\\'I\\370\\3164\\324\\326.b\\320\\356\\321\\246b%EH\\356\\272\\006`A\\332\\243~3\\222>\\353q\\3207\\t\\251\\333\\315g\\361\\002\\372\\372;K\\231\\340\\212\\340\\332\\301}\\034\\241\\305\\322/\\n\\252\\3752H\\n29\\317\\003\\030\\007\\320\\376#x\\226\\323\\302\\2324\\272F\\226\\366\\371\\263\\234\\306\\227RF\\025e\\010\\2427@@\\335\\271\\263\\222p\\006X\\223\\332\\270\\233O\\210\\272^\\237\\257\\314\\226)s`\\337ek\\342\\373\\020E,\\331b\\252\\273\\t\\000\\016\\234\\3626.\\010\\354\\001\\311M\\342K\\373-r\\302\\352\\360]\\335J\\301\\225-b\\214,\\266\\200\\203\\200=\\017\\314~pO\\003\\334\\327\\253\\257\\303+\\217\\037\\353\\232N\\263-\\322\\245\\234*a\\324\\277\\322\\035e\\200\\261<\\034\\214\\202\\000q\\311\\'\\345\\031\\004\\020G7\\255\\352\\032\\014\\227VSXE\\r\\244\\227\\352\\024\\270o8>U\\212\\310I\\033Pd\\236\\027\\030\\353\\311\\004W\\023\\343\\357\\214:\\305\\347\\215\\343KK\\273\\355>\\302M\\326\\242;y0\\017\\315\\216\\274\\226l\\016H\\347\\346\\305\\000{E\\276\\205\\027\\202\\274m\\246\\336i\\232\\304Rh\\227:\\202\\306\\032[UyJ\\007\\177\\274\\303\\214\\006l\\360B\\356\\353\\355\\3536\\326#K\\235\\357\\264\\313X\\356n.eb\\362\\255\\260\\270!\\324E\\026\\345l\\002\\007\\312\\331\\003;H\\352A\\002\\274\\027\\341\\207\\205\\355\\264\\330om\\257\\345\\265co#oX\\366~\\354\\262H\\373X\\025l\\022X\\221\\234\\234\\023\\351\\212\\366/\\207W\\376 \\360f\\223%\\311\\267\\274]-\\312\\334\\031\\222/.\\033bX`9%UH,A\\306A8\\035H\\300\\007u\\360\\353E\\323d\\361\\275\\351\\262\\027\\022Oqr\\3604\\222y\\316$q\\223\\270($\\252\\241\\316\\337\\224\\034(\\357\\220\\3327\\272^\\251\\360\\250M\\\"_\\217.\\342\\345\\243w\\270\\205d\\270X\\0347\\224\\302\\\"\\n\\355\\330\\353\\300\\034\\034\\035\\307\\014O\\r\\341\\337\\212\\032\\365\\206\\257ow\\033X]\\317~|\\264\\213k\\023*K.\\001GvR\\034\\257\\033\\261\\363\\010\\316\\356\\346\\273m[\\341\\214\\03607\\363\\037\\023\\242\\335\\264\\357%\\325\\213\\310\\336d6\\352\\031TD\\010\\330\\025\\014k\\203\\226c\\306Hb\\001\\000\\361\\357\\213Z\\004\\037\\r\\264w\\272\\325l\\237\\\\\\276\\324gK\\2137\\273\\005^\\3366]\\207\\n\\300+\\002\\352X/$\\004#\\275q\\036,\\276\\032^\\235l\\222ZZ\\306\\266\\266\\253\\207\\2061\\014\\017\\202\\314\\031\\225F2\\033\\320\\003\\363\\032\\356\\376)\\370\\034x\\207\\304QX\\317s$2\\227\\004N\\2003\\244\\021\\273G\\202\\334\\036]Ct \\206o\\307+\\305\\2725\\246\\273\\3414\\212\\316@\\326\\226\\002H\\226\\026\\223lm\\030\\007)\\273h\\014\\344\\224\\301\\340\\003\\234\\236x\\000\\340<\\'\\177q\\342\\2557P\\322#\\222\\350Y\\274\\230\\022\\313\\265a\\014\\250\\305X\\226\\033\\203o\\3500~\\361\\344\\003\\232\\267\\342?\\t2|=\\261\\236H\\342\\266\\214\\264vs\\250fY%`\\340\\241\\'\\031v*\\016N\\177\\\"\\312\\017*|@\\303Z\\002\\326\\346\\030\\221\\363\\033A\\016YP\\274jy\\035\\006\\335\\315\\203\\236\\016\\007j\\364\\377\\000\\214\\232\\327\\206\\033\\341\\032h\\260\\335\\352w2\\261LE(\\214K\\023\\355\\220nf\\3009fP:\\377\\000\\022\\36094\\001\\343O\\241Z\\370\\027E\\271[;6\\216}r\\365\\311\\022\\206\\022\\006V\\371\\233\\203\\236\\n\\271\\031\\3063EP\\370\\263\\342\\251|Y%\\255\\324ol\\363\\350V\\243qP\\317!\\033\\024\\004\\035y$8\\343\\2419\\316:\\224\\001\\365\\255\\336\\205t\\255ouo\\250\\333432\\310\\261\\276\\361$rH\\007&V\\ny\\034\\234\\355 z\\200\\rpz\\327\\206\\265\\253\\277\\211\\372\\266\\220\\253{\\344\\337!k{\\353\\310\\026x\\242\\007\\220\\200\\214\\234\\257\\226\\007\\000\\022\\000\\347\\004\\032\\355u\\017\\210vz/\\207mn\\344\\271\\264\\236\\006\\264\\021\\331[\\352\\002;\\211.dx\\312\\263\\236\\244.\\375\\300\\345\\2622\\tlc<\\317\\303\\017\\033Z\\370c\\305w\\004Z\\336]\\335\\317(Cit\\004\\336c?\\337\\371I\\033\\260\\006W<d\\250\\335\\223\\310\\007+y\\243k\\372n\\206\\350n5\\033-2\\336uI\\035c\\\"6\\306\\002\\310\\314p\\300\\010\\333\\202\\000 \\016A\\3074\\374=\\3737X&\\255\\246\\352\\221\\\\X\\334-\\242K2\\031\\\\\\267\\233\\261\\227\\216\\027qv`OQ\\200\\030\\036r*\\367\\306]5|-\\251\\351\\232E\\266\\240\\326\\0326\\241\\027\\332\\244\\236U\\\"\\336$wq\\362\\205\\344`\\2312\\340\\020\\000\\300\\030\\025\\257\\340+\\253-\\033\\303Z\\230\\263\\236\\342\\352kH\\2329.r\\217\\004\\350A;\\0201\\035K\\260\\r\\324\\026\\351@\\034\\207\\215\\274?\\250[i\\213\\024_m\\271\\266`\\267;^\\003\\321X\\203\\345\\222\\270]\\245\\\\\\177\\337]1\\201\\304\\376\\317>\\020\\323t-?Z\\264\\322dg\\270\\325\\365%R\\322\\316\\252P\\354\\220;2\\214\\020\\024\\256{}\\376\\240\\034U\\237\\3327\\366\\227\\323\\365\\277\\207\\032\\216\\235\\247\\352\\321Xk\\360Z\\230\\304wN#c\\034\\204\\206@H\\033\\316\\346\\'\\226 \\201\\310\\310\\347\\314\\177g\\253)\\374\\025\\254i\\332\\262\\211f\\3624\\307\\236\\360\\310@\\206i[#\\031\\317O\\336\\000Oo\\316\\200=\\353C\\370{\\027\\203\\254#\\325\\374Awg{\\256kaV)\\032\\006UNWh\\345@\\337\\226\\\\\\225 \\014\\201\\311\\301\\250o\\364]4\\374\\\"\\325\\301\\325\\244\\223\\305\\267\\232\\224\\260i\\220[\\304\\230&P\\261G q\\202\\024s\\234\\234|\\335:\\221W\\343o\\307\\277\\017h^\\000\\216\\343B\\323\\356\\265)e\\362\\246\\023\\312<\\323\\247JI`\\205\\200\\005rFq\\216\\307\\236x?g\\253}\\023E\\3616\\223\\343\\177\\021Gmu\\341\\302b\\224\\3319*\\\\\\371{Uwn\\034e\\201\\344\\361\\236Nq\\220\\017[\\360\\347\\201\\364/\\207\\221I\\344\\211$\\237Y\\261\\203G\\231\\231L\\322\\241\\217a\\3008\\300\\000)\\332\\330\\317A\\305y\\347\\2165\\251|+\\361\\032\\323I\\202\\326[M>\\352(\\376\\321$\\341O\\224w<\\217\\022\\224\\344\\000Y\\006;|\\334\\236k\\256\\233^\\323\\240\\370\\266\\232U\\255\\374\\272\\235\\256\\257\\2465\\375\\264\\263]\\356[\\000\\t\\221][\\252\\343<\\347\\226;\\206\\007Z\\304\\360G\\302\\355KA\\370\\217\\252i\\023i2\\3532<\\222M`\\363\\004R\\\"1\\202\\030\\241<\\262\\362\\304\\016\\201\\206@\\000\\320\\007\\037q\\244\\353\\372\\254:\\224P\\335\\352! y\\013\\375\\236\\020\\321\\230\\263\\264\\020\\315\\226\\311\\n\\3479# \\340U\\010\\354\\326{\\024\\324\\355,\\247\\275\\325&\\274\\223\\312\\235\\313\\305,\\312[\\007v@\\302`\\\"\\344\\202A*s\\236\\236\\313/\\200o\\356\\356\\216\\257\\250\\352\\020G\\247_\\332\\305\\025\\275\\264Q\\222\\267A|\\304d\\005q\\200[i9\\311\\371OLV\\207\\306\\t->\\013X\\370v\\376\\372\\314]Ew.\\313@1#G#\\253;\\261V\\005\\2313\\323 \\200C`\\347\\030\\000\\371\\347\\343\\207\\304\\257\\021Y[\\0350\\350\\221\\307\\247+:\\210\\325d\\222\\345\\0303!m\\343\\345\\014H\\'\\000\\377\\000\\021\\007\\261;?\\010n\\264\\375\\037\\301\\3271x\\211\\345t\\332\\367v\\361\\254J\\3636\\310\\366\\204#\\237\\342\\332\\030\\340\\2006\\366\\\\W\\252|u\\261\\265\\361O\\303\\213\\rJ\\351a\\322\\255f\\235\\355\\355,\\355H\\023\\\\\\341N\\340\\303\\226\\004\\007\\334w\\036r1\\214\\032\\362}\\023\\342\\005\\257\\301\\213\\213mO_\\360\\365\\276\\275k\\347\\312\\2214\\022\\356\\271\\023\\242\\222\\241\\307U\\034\\036P\\221\\327\\3274\\001wS\\370u\\026\\261%\\236\\237h\\326\\222j\\2212\\335A\\025\\304D\\354B\\301\\334\\005\\316\\322J\\203\\201\\2002@\\036\\374\\257\\304\\257\\025\\350\\177\\r\\274Gf\\376#\\270\\273\\270\\325Yg\\236\\177\\261\\202\\r\\254\\212X\\253\\025^W\\201\\306rpF\\017z\\263\\343\\037\\006k\\377\\000\\264\\205\\305\\377\\000\\213\\356\\216\\253\\240\\353\\220\\313\\025\\265\\242+\\025\\231-\\202>r\\270\\000\\266\\320\\274d\\021\\273\\216\\302\\267\\274\\007\\373\\'A\\006\\235qi\\342\\375V95\\215HK+\\336L\\314\\261\\243\\026]\\261\\021\\327!\\n\\203\\362\\367\\240\\010\\276\\026\\374s\\360\\177\\304\\013\\270t\\235\\0269m\\357RXc\\270\\220E\\211\\245$\\035\\317\\363\\016Y\\227\\345!@Q\\323\\201\\223_Cx\\363\\306\\027z\\307\\304\\006\\360\\355\\275\\375\\315\\325\\264\\032j\\245\\312y\\276RF\\2709\\302\\256T|\\303\\035\\001\\334\\007`+\\347\\315s\\340^\\207\\360\\333J\\032\\376\\205\\252Y\\301\\255\\370~\\350=\\254\\220\\227X\\343dv<\\201\\031$\\266\\302\\001m\\247\\356\\221\\327\\217C\\370y\\361GY\\272\\361\\265\\256\\267\\342\\213\\313\\215U\\365$\\211\\231#\\266Q\\0143FS\\313\\000\\246\\326\\333\\226\\034\\203\\337\\236\\007 \\036\\233\\360\\377\\000\\340V\\263|t]VKMU5\\330/RX\\245hJ\\256\\364b<\\254\\026\\313\\020\\300\\034t\\340g\\004\\032\\273\\373D[\\017\\t\\tuh\\265\\r@k\\372\\245\\304>cH\\2137\\332\\036H\\274\\306Xp\\312\\002\\356\\336\\010u\\317\\311\\337 \\035\\243\\343_\\035\\374M\\373>\\207\\342\\013\\275/Ik\\350\\241\\262\\260\\234\\262\\302\\326\\312\\017\\231\\277i;s\\201\\036\\341\\270\\022UG\\030\\301\\317\\361o\\204\\374M\\251hV\\221j\\266v\\227\\362\\332\\274Vv\\372\\220\\272\\362\\232\\'*\\346)\\230\\002K(\\030\\371GM\\371\\307\\024\\001\\343\\2769\\370\\243i\\361\\007\\304\\037\\330Z\\275\\241\\323.\\276\\300Z\\342\\341\\347\\3734\\303\\356\\225\\217\\367j\\312B\\022\\331\\031\\347\\'\\246+\\312~ \\370WU\\360\\304\\017e\\016\\255\\2511\\271\\275\\027\\220\\315\\026\\367h\\342\\307\\335\\031$\\356\\332\\331\\344\\364\\014zW\\322?\\022\\374\\033\\246\\334\\336Z_Zj\\272h\\275\\272V\\271\\210+<\\276b\\020\\206E8*F\\322[\\033\\200\\317\\227\\306zW\\225\\374f\\3235\\037\\004\\035>\\362\\025\\274\\324t\\313\\001\\004\\262\\371@+;\\004c\\344\\261P3\\215\\334\\374\\300|\\214p\\033\\006\\200<\\177\\301^\\034MB\\366\\332U\\027CU\\266\\324Z\\337\\006 \\216\\256\\020\\250\\nO\\336Q\\201\\222\\336\\275z\\232\\356\\265+5\\360\\304Z\\214\\327Kkyp\\227[<\\201#\\311(T$d\\221\\205\\\\\\357\\' \\234\\343\\003\\333J\\366\\371-mt}n-*\\030\\256.\\244\\305\\345\\272\\243\\005\\205\\245`\\261\\203\\234\\220\\000\\353\\203\\237\\335\\036\\304c\\243\\370\\203w\\255ik\\002[\\267\\332\\356\\265\\304\\002\\342dBV\\024\\220\\2660B\\360A\\007\\223\\327\\223\\214\\002H\\007\\216|Y\\202u\\361\\364?\\331Q$\\266\\372\\256\\235\\373\\233De\\266\\021\\342,\\027a\\337\\273\\0068\\316A\\347\\261T|a\\341\\035WG\\270\\274\\326`\\361\\014\\251$\\226\\362C$\\322@\\253$1m\\r\\346n\\306@\\007z\\234\\034\\345q\\214\\023E\\000}a\\360\\326\\377\\000\\300\\222xn\\013\\317\\024Y\\007}\\036G\\022Y+\\303!\\235\\n\\252\\031ws\\301|\\200\\016\\016\\002\\234\\037\\342\\302\\327\\374w\\243\\370s\\305W\\372\\276\\225imc\\025\\356\\235\\366}*;v\\210\\244\\'!\\013\\340\\310Np8\\003\\241S\\323\\004\\3279\\343\\315>\\363UId\\237\\3540K\\035\\2024\\302\\332O2R\\336VU>\\376\\002\\003\\274\\201\\264\\206/\\301#\\205\\344~\\016\\370b\\303Z\\361\\002\\337\\337E;\\330F\\352\\363\\260VH\\356\\310wf\\310\\030\\332A-\\307~\\230\\004\\320\\004\\215\\373S*X\\352\\232\\026\\267\\241&\\241j\\321\\213xn\\236%x\\255\\037v\\305\\334F\\335\\275U\\201\\311# \\035\\325\\255\\343\\333\\231\\256m\\257\\365].\\024\\221\\222\\331\\266\\375\\207\\r\\035\\271,\\031\\001,\\313\\271Y\\266\\360\\t<`\\216\\315\\007\\306\\257\\014i\\276,\\264\\3614\\032M\\242DQ\\345X\\240\\332\\273\\342nN\\347\\311\\350Ild\\236C\\0161\\221\\303\\3703\\306my\\251\\351\\036\\034\\325\\256\\022\\r9b!\\013\\310\\310\\262FA\\000\\263\\271e\\031*I\\030\\003\\220ph\\003\\302o\\277g\\305\\325$\\027\\376#\\324R\\355\\2657X\\0226\\231\\222H\\263\\036F\\0008\\013\\37488\\306\\017\\275zg\\215\\246\\213\\341W\\301\\373\\353\\177\\rhJ\\253\\005\\242\\001<\\300\\264K\\271\\216H$\\2222Tz\\034\\2000@\\256\\363\\305?\\014\\264=/\\306\\252\\022\\376\\332I\\304\\246hJ\\271a\\024\\254\\207r\\206\\004`(F\\344\\001\\215\\313\\357Y~1\\262\\032\\375\\305\\214\\332\\204\\332I]u<\\207\\215et\\301F\\003i\\r\\202\\0162\\301ORFy\\311\\240\\r\\317\\207\\366\\232T\\377\\000\\262\\316\\237\\245k\\260E&\\271w3K\\345\\304Ii\\\\\\305\\270f<\\002\\304n n\\310P8\\311\\311\\256\\\"\\347G\\271\\361\\006\\235\\341k{\\267T\\323\\254\\334\\306\\372e\\274k\\004A|\\317\\227x\\310\\311a\\363g#\\2368\\342\\273\\357\\010E\\243I\\342\\033y$\\202\\332y|6\\261H\\223\\265\\313\\230\\302\\251P\\273P\\234a\\216A=\\360\\017A\\202\\335OF\\324|K\\361#R\\263\\267\\263\\272\\263\\322t\\213\\313;\\213+x\\2441\\244\\370V?\\274R\\304\\214\\006\\nT\\021\\2028\\301\\300\\240\\017d\\3701\\360\\243H\\323n\\364\\335KH\\265&\\316D\\2712\\\\\\204\\373C\\243 \\n\\231Wu\\302\\261\\317\\312p\\001==y=g\\342L\\337\\023\\376+kZ\\256\\245i\\253[j\\t\\030o2\\336B\\024\\231\\027\\021\\252\\215\\340\\014\\365\\004\\022NG\\\\W\\261~\\315\\226b\\357\\307\\372LW+p\\372\\\\V\\256eK\\234\\310,\\245\\'\\314\\\\!$\\262\\004\\211\\224\\206\\'vpx\\311\\034>\\257\\253Zk\\377\\000\\022\\356\\255\\254nt\\353\\r8\\335\\0252\\244n\\252\\n\\226T\\005\\225\\016\\357\\365i\\350\\024\\021\\202x4\\001\\227\\245\\374!\\361F\\245\\341\\3552\\315\\'\\324\\355\\327N\\177\\267I$\\22200\\300\\256\\006\\350\\367\\223\\031.J\\220H\\034\\343\\220p+wI\\032\\225\\274\\272\\303\\370\\232I.#\\204Dt[w\\213\\354\\355\\024J\\231q\\\"\\002Fs)M\\370!\\262\\347 \\255u^)\\361\\355\\362G\\242\\310&\\270\\272\\265KCm&\\242S\\312\\362Lyp\\212\\305\\234\\221\\205\\335\\273\\214\\200@\\0039\\257.\\264\\324g\\370\\221\\343\\375j\\302\\332\\357\\313\\261\\270\\271\\213u\\313\\303$\\357$a\\203\\220\\256\\307\\014\\254\\021\\271\\000\\r\\270\\344s@\\035G\\2105\\215\\034|\\037\\272\\323aKT\\277w`\\327\\216\\241\\234\\267\\035\\024\\215\\303 )\\r\\234\\014\\343\\247\\312~~\\360V\\231c\\250k\\232m\\245\\315\\341\\276\\323\\241\\326M\\344\\367s\\314\\220\\231\\343#j3\\006\\31198<\\234\\200\\030\\0200\\rz\\017\\307\\257\\020\\307\\341\\275v\\021-\\335\\204\\221\\335\\203\\251)\\262;C\\256\\355\\321\\253l<\\002\\000R\\275>Q\\316\\005r\\377\\000\\014tm;\\306~!\\325Q\\255\\354\\336\\030\\326\\316sr]\\214\\202L\\340\\240$\\222\\317\\222\\006\\356\\235y\\024\\001\\321x\\2568\\207\\211\\254\\014SO\\034/u\\345\\030\\340\\0223\\333\\205%\\013)\\031\\005\\312n\\3168;A\\343\\245\\036\\032\\324\\365\\033\\257\\033\\377\\000h\\337\\030\\256t2\\305`\\202\\342U\\266|lp\\244\\341H?u\\311\\004s\\327\\2515>\\275\\014\\232\\3043\\331\\311,\\266\\232}\\225\\263N\\241\\023j4eI\\343,N\\001\\007\\333\\356\\361\\223\\\\W\\204\\212|A\\270ey\\213=\\225\\302\\210\\257\\344\\271;\\237s\\220\\2506\\355,\\006=I\\311>\\243\\000\\036\\341i\\360v\\323S\\325\\364\\370u\\177\\263D\\262Y\\233\\370e\\2111u2\\371\\234F\\254\\355\\264\\234\\242\\360\\31003\\22223\\321\\353\\237\\017\\374%\\254\\351\\3267:\\256\\273\\026\\225\\253\\350\\321\\244\\253$6\\354\\322\\273\\215\\350\\020\\205c\\032c\\001\\2670\\347\\3459\\317N\\007\\\\\\324\\256\\227@\\263\\202\\302\\367O\\265\\235\\334\\227\\216h\\212\\210\\244\\301S\\265\\335\\330\\253\\340\\200\\027<\\363\\3501\\335\\336\\370F\\343Y\\322\\363\\250\\336\\255\\304\\363\\\\DdHv\\375\\2425\\030\\371\\342q\\225ef\\010\\002\\347\\000\\001\\307\\240\\005\\217\\207\\337\\037l\\2769k\\332\\035\\244\\232\\025\\275\\336\\253\\241^7\\330\\365\\231m\\227O\\216B\\305\\266*\\260\\221\\003\\035\\300\\025\\035z\\236\\270\\025\\337|q\\322u\\017\\002\\374:\\267\\265\\326&\\017,\\220\\333\\314eX\\245\\235e\\231Q\\200%\\221\\00233\\205\\031\\335\\310#=\\301\\362\\237\\370U\\362\\351\\372\\036\\233m\\341\\213}F\\033y\\231\\256\\256\\254\\235#i\\3372\\264\\261\\273\\024\\351\\226#\\000\\003\\303\\014\\2363]\\225\\317\\355\\rce\\341\\335\\033\\303\\372\\246\\273\\025\\235\\305\\274\\236l\\226\\367\\r\\347Io\\272B>g!7&\\023,\\243\\000\\263e\\271\\000P\\007\\037\\342+\\355?\\301i\\006\\257\\036\\254\\261\\335\\304\\315\\030\\223\\354\\3460\\\"\\226Eb\\001\\363\\034\\360Cq\\3019\\003\\221\\315Q\\326\\215\\326\\247\\340\\344\\273\\020\\302\\272k\\204H\\333\\314\\363\\031%PD\\204\\251\\003\\003\\222F\\360\\007\\314=\\t\\247\\374g\\361\\361\\3234\\013f\\200\\3076\\241ix\\222)\\334\\261@\\314\\031\\324\\224]\\304\\224\\332F9\\371\\267d\\234\\361X?\\023<Y\\256\\350\\366zv\\235t\\320\\351v\\272\\356\\313\\351\\325\\024\\027\\206)\\2242}\\006B\\001\\274`\\006n;P\\007\\232\\374W\\2366}?D\\211-\\342\\3234+\\310\\247b\\261\\005\\224\\250b\\345\\310\\307\\315\\271\\262GL\\026\\'#\\267e\\342\\337\\034\\353\\3362\\322a\\3234\\263\\035\\333Z\\333Dd\\006eF\\211W\\314\\350\\2746K\\276>c\\327\\234\\020Mf~\\325\\332\\207\\206\\2745\\341m\\022\\356\\367R\\2646\\333\\336\\316[\\2006\\030\\330r\\355\\265q\\236\\0339\\301\\301$c&\\274\\233\\341\\367\\307=3\\304\\323]J\\227\\226\\257\\016\\241~m\\240\\225\\330\\251\\362\\221\\010\\016\\310A\\312\\200\\304\\014\\001\\310\\310\\3168\\000\\353>7x;LO\\004H\\0376\\332\\311\\211m\\226\\310\\300X\\335\\357#y\\035r\\304\\262\\201\\222N\\010\\300\\007\\251_>|w\\375\\260/>%\\376\\321\\226\\036\\024\\323\\357\\016\\253o\\247@d\\021\\251lG\\363\\026<\\360@\\307<\\347\\256=\\250\\240\\017\\263\\255^/\\022\\351\\366#U\\262\\273\\234X\\331%\\302\\233R\\352.\\302\\222\\210\\\\\\202\\333\\230\\306\\010\\371\\261\\200\\204\\234\\361\\234-cT\\376\\327\\206\\317I\\320\\255\\254lcW77\\004&\\375\\211\\345\\374\\304`\\222\\024\\227=\\017P@\\300\\346\\256\\3707\\307^\\032\\222\\372(\\342\\202\\333M\\327.\\243\\267A\\r\\343\\010\\321c\\030\\332\\240\\035\\333\\211f\\223\\250\\031\\3349\\347\\235]{Q\\233\\302\\320\\337j\\246\\035-%\\267f\\373C\\333\\333)y\\221\\327ht\\302\\002\\020\\360{\\367\\000`n\\000\\036i\\251^\\177\\302{\\245\\336\\245\\212\\333\\332k\\323\\3173J\\221\\270o)\\002\\310\\344\\355 a\\263\\270\\340\\203\\235\\243\\3576H\\347\\276&|>\\360\\367\\217|u\\243\\331\\306\\257t\\360\\351\\226\\361^n!\\'y\\325\\3227|!=v\\276\\000\\000\\355<c\\245]\\361\\307\\303\\225\\321\\265;\\013\\331u\\206\\264\\275\\327\\313\\337^H\\204\\225\\204;\\006\\330\\333\\260rp@Q\\323\\237\\306\\217\\2064}K\\303\\177\\023\\255\\274Gw{a\\034\\026\\372_\\356\\227\\316YL\\214\\025U\\024d\\r\\273\\203`d\\002\\243\\234\\367 \\036S\\343O\\017\\370\\213A\\370\\226,Un5-*\\332\\335\\356]\\331\\211t\\221\\210%N\\336z\\006\\036\\243\\363\\025\\326\\351\\237\\031t\\337\\036\\370\\262\\336\\306{\\013i$x#\\226\\'x\\310\\226!\\031\\344\\236G\\317\\362\\223\\234\\236\\275\\353\\246\\361\\317\\306\\210\\264\\237\\017j\\010\\262\\351w\\227w\\273-\\243\\270\\207\\344\\222\\323,\\304\\266\\340N\\357\\224`\\202\\304\\355-\\326\\274G\\304\\021\\305?\\305\\235\\036\\352\\324\\250\\264\\271\\013\\024\\202\\022Q\\361\\234oW\\000\\214\\017\\277\\316\\t\\335\\364\\300\\007\\321\\037\\016a\\217M\\325//\\233E\\2707:\\263\\231\\243\\271}\\205\\035\\033|j\\210\\207\\031#`\\350}@\\031\\034T\\370\\207\\361\\337Z\\326\\365\\315^\\302\\341\\256\\006\\246\\327\\021\\374\\302\\332BfM\\201Qp\\307*\\030\\234\\223\\223\\301\\343=\\3727\\370\\201\\245\\370kD\\216}%\\342\\263\\3224+UE\\205\\343A4\\322\\005\\346NX\\222y\\332I9\\031\\3163\\223X\\277\\016\\265\\335s\\342\\r\\375\\367\\214\\246\\264\\323Q!\\273\\216\\031\\005\\323m1\\347\\220A\\343n#\\007\\004.\\001\\3163\\310\\240\\017]\\360G\\304\\233}s\\305\\332~\\207u\\252_A\\252\\334\\3512\\313y\\001\\014\\257q.\\327$2 a\\362\\356\\035\\263\\200zn\\310\\322\\361\\357\\2054+O\\031\\350\\357\\241\\303u\\250Mmpf\\303\\\\og\\236I\\266\\311\\3631\\014\\312X8\\340\\340\\000q\\353^\\025\\361\\333\\343V\\237\\244x\\255|w+L\\232\\206\\221\\247\\033id\\213{(`HW\\3169\\004\\260\\r\\323\\031\\301\\346\\275\\353\\376\\t\\373\\342\\370\\376)j\\266\\336$\\271\\267\\271\\226H\\243\\027\\2662<k\\034xA\\270\\340\\356\\306C9\\351\\217\\237o\\255\\000u\\0367\\361v\\251\\032^h\\267V\\360\\351\\362\\332\\333K\\023$\\026\\177\\274L\\306$\\030\\307\\nq\\373\\262\\303\\246N\\016:\\371N\\275\\360\\352\\312\\322\\302\\302\\312\\356\\356\\372;\\373\\350\\222\\340\\306\\312\\004\\226\\340;\\240H\\366\\226,q\\236\\370\\\\\\267\\036\\277@\\374j\\361\\366\\235\\342\\237\\020\\353\\003Q\\263\\007H\\271\\272k\\2033\\302\\376lC\\315\\362USny9f \\216\\353\\336\\274\\326\\377\\000J\\233\\342\\247\\217w\\351\\266\\326\\266\\326\\326\\261G,\\321\\2539d\\265\\334\\016\\320z\\2110\\244\\360\\030\\374\\244\\203\\206\\344\\003\\307\\274C\\341Cc\\244\\3537\\332\\255\\245\\335\\314\\027\\301cH\\347|,01i\\023i$\\014\\220p>S\\234\\001\\320\\361\\316x\\033\\340]\\366\\237\\340\\215cW\\322o\\026=F\\330\\213\\351\\254K\\000\\004Q(+\\274\\014!?0\\034w8\\3005\\366W\\304\\377\\000\\001\\331\\351\\036\\013\\325|[\\253\\350v\\253m\\247\\351\\302e\\022\\253\\233{\\217\\233w\\356\\311Q\\270\\243\\027;\\210\\000\\211\\000\\343\\007?0\\374\\026\\237\\3030\\330\\330\\226\\274\\264\\323\\346\\276\\233\\001VE\\225e\\0007\\310O;r\\270\\035\\010\\001[\\216\\202\\2005%\\323\\255\\254t\\031.\\274ay%\\275\\344Zy-,2\\263\\010\\313\\343\\013\\205 \\214n\\000\\363\\223\\267\\240\\002\\270\\257\\006\\375\\252\\373\\342U\\206\\235\\240i\\320\\335izZ\\264\\206&\\203cF\\003\\034`\\251\\311%\\230\\0229\\345\\261\\311\\252\\263\\235gT\\265M3XC\\251Y\\352W\\223\\305\\034\\317*\\242F\\250K\\355c\\335w\\016\\230\\344\\355\\000\\327\\240\\376\\317\\262\\334\\350\\276)\\276\\271\\020Igk\\nI\\275Lk\\346$d\\256J\\021\\220~^X\\216\\010\\014N\\016\\000\\000\\203[\\370!\\342}[\\301Px\\222\\326\\352\\031 \\273\\275\\222\\334\\205\\311x\\237\\014\\346D^w\\005P9\\347\\202:`c\\263\\370\\005\\343+\\355 j\\260k\\227\\260\\352\\261i\\357$PKv^\\020\\222Hq\\036\\t\\341\\266\\375\\355\\314F\\016:\\000\\010\\213\\305\\277\\031\\357\\374\\030\\361\\330\\304\\366z}\\232DY\\330\\201\\032)\\221\\321\\035\\23008r\\033\\031\\\\aQ\\3600p6\\336\\326/\\022\\370JK\\230\\244\\262X\\374\\310\\247\\276\\021\\300\\031\\310\\221v\\262\\252\\261\\333\\263.\\006p\\243$\\212\\000\\354\\254<Y\\r\\314\\272M\\245\\215\\252\\330\\335]<F\\350\\311;\\313\\037\\232s\\231\\003\\246[hM\\344\\205\\316J\\2560\\275s>1\\3748\\360\\256\\255\\342+\\353\\244\\323\\232\\343V\\232\\336kt\\236\\332v\\222\\332\\010\\335s\\220$\\311R\\314\\001\\035\\266\\271\\n3\\212\\325\\360\\327\\202.\\364\\257\\032\\300\\372U\\251\\263T\\2062\\201\\256\\004 4x\\314e\\t\\007v\\035Td1!\\224s\\270\\327I\\343\\355+S\\326/\\254\\365\\030 }\\\"x\\\"h\\'6\\262\\037\\265M$j\\212I9\\031\\371d\\334I\\312\\355\\3509\\240\\017\\227\\2769|,\\361\\024\\211\\245\\370\\230\\337\\333\\352\\306\\334\\203\\014q\\310\\n\\332\\251A\\217\\335\\025\\004d\\340\\343\\033\\263\\270\\236\\207\\031>4\\361\\325\\346\\247\\253hz\\326\\267\\246\\313\\177\\244\\244\\002\\322\\342\\342\\024\\3456.F\\302s\\367P\\\"\\201\\330\\201\\333\\002\\275W\\366\\227\\361^\\277\\360\\357\\301\\366CP\\275[\\221~\\354#[h\\326\\331\\374\\247\\215c\\004\\307\\367\\034\\347\\033\\263\\267\\200\\006N0<\\257\\300\\266Kv\\242\\306\\312KW\\323\\355\\300\\270\\225&\\336\\340\\312\\361\\343\\014\\217\\320.3\\270\\014\\003\\221\\221\\306@<\\243]\\3604\\377\\000\\034\\232k\\037\\023[\\230|=o<sG\\200\\300\\022\\347x\\215\\233nr\\025\\211\\311\\300\\317\\267M\\177\\210\\237\\262~\\207\\257xkK\\271\\320\\344\\203I\\3234\\230\\246\\216\\341\\355\\001-r\\3459e\\001\\230\\2000NO\\031a\\332\\273\\337\\024\\370\\347O\\361\\037\\214#\\265\\231a\\360\\356\\237n\\352\\226\\207y\\222\\302\\350#\\003\\260\\202\\033c8\\316\\341\\310\\312\\221\\273$\\343?\\343\\017\\355-6\\203{y\\341\\221g\\024\\261\\332[\\303\\005\\254\\226\\221\\251\\022\\250<\\2622de\\2343c\\221\\271y\\342\\200<k\\300\\377\\000\\261\\246\\221\\340+]S\\305\\022\\334\\333\\215J\\3602G3K\\345\\213p$\\004\\202\\330\\301\\306\\007C\\2162\\007\\006\\212\\355uY/5\\257\\207\\020ik%\\323\\025\\227\\3477\\001\\203\\262\\362\\254H\\007\\262\\035\\244\\014\\214\\347\\256sE\\000E\\341_\\002\\\\\\370\\362\\316\\366k\\313\\326mNy\\326BQ\\360\\252\\251\\313\\000\\303\\004p\\243\\200\\247\\246}3Bo\\020j\\3677zo\\204/$\\220M\\243\\231-\\344\\216\\3327\\232\\013\\255\\262;\\225$\\347p\\005X\\234\\014\\215\\307\\260\\300\\350\\374\\027\\341+\\217\\034X\\315\\002\\255\\365\\237\\233o\\034\\357q\\020gvg*%\\004\\000\\016wg\\216G=\\261\\232\\273\\243iC\\300\\226V\\254\\223\\243\\203z\\315q\\177<k)U \\253\\024\\'\\003\\220\\030\\225\\3178\\035\\230\\200\\001O\\3424Z~\\265\\240\\334\\\\\\333\\336-\\365\\263\\341\\346\\2719hc\\333\\020\\334rH \\356b\\016W\\222\\t\\301\\353^e\\037\\216$\\370\\303u\\251A\\025\\314Ka\\244\\311\\0046\\206\\004\\0021\\264\\374\\322\\002\\273pYU\\317#\\371\\214u:\\342C\\242\\351Wk|V\\317O\\265\\234Ku\\013\\r\\357/\\314\\003\\031s\\301\\031\\355\\323\\203\\320\\327\\236\\377\\000`/\\204\\274R\\327\\361\\237*\\323P}\\254\\276aM\\301NX\\025\\004\\200I#o\\0352x\\317\\000\\035\\016\\257\\341\\r\\\"\\340x\\216)\\342G\\265u\\335\\036\\371\\2269c\\221c%\\212\\257V;\\230\\367\\313\\0008\\317\\025\\307\\303\\340K\\270<\\017-\\345\\354\\t<p\\306\\220\\307<s\\226\\212 $\\210\\0259$ueS\\214\\023\\212O\\215\\336/\\273\\324]\\365-\\0269\\346\\202\\030Bd\\304\\021b\\224\\223\\203\\300\\003v{\\236\\347=\\205u\\337\\001\\226o\\033xj\\177\\017j1C.\\221oc\\035\\355\\374V\\314VF%\\303d\\034c\\345m\\27598\\306M\\000z>\\265\\360m\\374A\\343=\\\"\\312\\357)\\341\\373\\213g\\275\\2611N\\226\\345\\374\\242\\341W\\0006F\\362\\203\\034g\\014=\\353\\246\\360\\254\\366\\236 \\360\\326\\265\\245\\272\\\\\\351\\226s/\\227\\004f!\\024S\\010\\376I\\\\+\\340ga?08\\335\\030\\310 \\363\\275\\017\\210\\264k-;OKYE\\375\\274Zm\\306\\227\\025\\270Y!\\2265\\001\\030\\271F!\\006\\342\\303\\004d\\014\\221\\323\\030\\316\\227\\303\\266w\\036\\000\\272\\206\\352!x\\326\\204\\276\\237,\\256\\3028\\337x-\\275\\224\\355\\335\\264m\\316s\\324\\235\\247n\\000<\\227\\343O\\301s\\252~\\317\\215\\246\\350\\372m\\315\\306\\243\\2517\\332\\344qtg\\tn\\200\\222p\\006\\002\\373\\343\\223\\236\\230\\002\\273\\353/\\215\\372\\317\\354\\337\\341\\357\\000xG\\303V7:\\256\\245\\254\\350\\260\\311s\\345\\250\\\"\\322m\\300\\230\\233h\\340\\355L\\266H8s\\354E\\277\\204\\267Z\\257\\301\\321\\014\\037g&+\\206k\\201!\\272C\\010\\210gh\\223\\034\\001\\225_\\224\\220\\006\\334\\036\\231\\257N\\203\\307z-\\241\\260\\226\\035#N\\325/\\264\\262.\\214\\215&\\317\\264\\334H\\311\\344\\242\\2202F\\365+\\234\\216\\307\\030\\316@8\\375G\\340\\367\\305}w@\\032\\305\\226\\252u\\250\\255\\235o\\256\\354\\242\\224\\241\\205\\331\\001h\\323\\031\\312\\215\\251\\203\\367\\0108\\007vA\\351\\2747\\342\\017\\026i\\251\\244\\352\\267v\\363\\351\\227\\315kn\\327\\006(\\001x\\211\\017#F\\244\\021\\306;\\234\\236\\027\\007\\004\\212\\364mcT\\322t\\357\\205mh.5m\\033^\\324\\346\\313\\333\\242y\\226\\362\\306\\300\\203\\227\\377\\000XW`S\\2200\\010\\307\\034\\032\\363O\\211W>\\'\\206=(\\370ib\\361\\016\\207l~\\311,\\226\\341\\244\\270\\266\\265F\\\"C\\200Nr\\000n\\234.\\017\\024\\001\\353_\\265w\\307\\211\\374Y\\3604xf\\322\\362\\316\\363S1\\357KW\\270\\216;\\211a\\017%\\253\\010\\225wo\\005J\\222Ae\\033Y\\273\\026\\037,\\374\\023\\370\\027m\\341]\\272yw\\271\\270\\266/sr\\214\\242\\332@\\300\\262\\252\\202\\304d\\250\\n\\006\\316Np\\010\\305u\\177\\0344\\224\\361\\217\\304\\215/\\305\\032\\r\\313\\337j\\226\\332#\\001\\344[\\254\\026\\366\\267=d\\215A\\332\\243`\\221\\213\\025\\005~c\\350j\\317\\302\\177\\021\\\\Xh\\032\\304>*\\265K\\371\\355\\022\\025I#x\\312\\243F\\\\\\205#\\004\\355\\335\\265\\213\\226\\034q\\316\\340h\\002\\314\\372u\\337\\305\\355S[} $z.\\2270\\373\\034j\\2513\\003\\363\\027\\371T\\362s\\310 q\\323\\035Er:\\017\\304\\253\\037\\rk\\332m\\260\\322\\256u\\246\\323VF\\271\\225\\023\\367\\356\\362\\374\\301\\206\\322U\\261\\226$\\205$\\252\\343\\271\\315\\237\\023\\374Ro\\204\\367\\372\\215\\347\\206\\265\\033[u\\361\\030\\177&\\337vY]\\236@\\312\\270\\003b\\376\\363\\236\\203\\247\\\\f\\270\\371u\\243\\341\\275j\\033\\353\\363\\246\\272\\371\\251\\002\\307g(&Y\\330\\022\\350y\\316\\006\\001\\340\\361\\307S\\214\\200X\\361\\016\\204\\277\\037\\274ceo\\244\\264zM\\226\\237\\0043\\265\\305\\311fk\\2073\\037\\220\\3623\\264\\027\\334W\\007\\363\\257V\\263\\375\\242l<(\\267:k\\0139\\265\\335;\\375\\032\\342Y\\227\\213\\205\\004\\005`G \\226\\n\\307#\\215\\276\\371\\256CDF\\361L\\226R\\330\\314\\326R\\330\\302\\216^@\\261$\\223I\\300]\\344\\375\\335\\235\\370\\035{\\361M\\370\\241\\360\\356}6\\344\\353\\246\\301\\343\\270\\201\\204\\333V5\\221F\\010guV\\035\\2623\\226\\311\\007\\034r(\\003\\336\\265\\037\\210\\336!\\323\\257\\377\\000\\265\\255t\\006\\327\\364\\230!\\265\\271\\236kY\\274\\267b\\230f\\210\\266\\334\\216W\\236@\\003gP2|\\247\\306:\\267\\304o\\211\\236>ms\\303\\027\\227:W\\207\\264$\\216k\\251\\222M\\267(\\262\\345Lh\\013\\034\\214*\\001\\264ddg\\030\\347\\320~\\005x\\336\\353\\306\\277\\016.t\\327\\270\\264\\2155#\\005\\275\\324\\344\\223u\\024j6\\263\\252\\362\\241\\0264\\316q\\365\\'\\234z\\'\\304\\357\\t\\350pX\\331\\337\\351\\020Cwg\\252\\307n\\026\\332Y\\212\\315u \\213\\004}\\321\\205FR\\271\\301\\311B\\007\\360\\340\\003\\347O\\216^2\\265\\321\\356\\264\\223\\342\\353\\233\\253\\264\\023\\\"DC\\005\\274\\021\\242\\200ILe\\200 \\234\\203\\202\\304\\237\\255?\\020\\352\\260\\377\\000ai\\253\\341\\031ZW\\216\\021;\\310,\\326&`\\255\\274\\305)\\353\\367\\233f{\\220:\\003\\203[\\366\\243\\3215O\\023|A\\206mZ\\302+xL\\013\\005\\265\\321\\210\\037%L\\203\\030$`\\202\\002\\020=\\270\\356D\\372D:\\316\\215u#\\351\\326ww1Z\\307\\373\\270 \\210\\202\\316\\3560\\362\\020\\007R\\027\\203\\306\\002\\344|\\304\\200\\016sR\\321\\227\\342\\037\\210\\354\\265\\013\\2752;=2\\013\\270!\\211\\343\\271\\000\\2563\\275\\230\\036\\305\\300\\345\\211\\031c\\322\\250|G\\370\\007i\\341O\\021\\335\\2747J\\327s\\352-\\003\\274J\\240F\\347\\346#\\346\\333\\373\\265\\313\\023\\216\\204\\340\\223]\\207\\305\\317\\025\\335\\334\\\\\\333i\\372F\\234\\322\\334\\306\\342Y#\\221B2\\022|\\311\\033<s\\235\\331$\\221\\205\\'\\266\\005O\\032x\\303\\302\\313\\341=2{\\335=\\247\\275\\2303\\\\\\313o3\\003\\004\\273\\210m\\312\\337x\\202\\3147w\\355\\323\\220\\0163R\\361n\\255\\242^\\352\\326\\2676\\023[\\334}\\255BO\\006\\n\\225*\\n\\344\\025\\301\\372\\363\\330z\\212+O\\306Z%\\260\\320\\255o-\\356\\244\\233Q\\226\\361fdvI%o1\\212\\215\\307%q\\202y \\340\\237Nh\\240\\016N\\323\\301\\336)\\036\\031\\264\\324\\354\\246\\3244\\355>\\362E\\226Q\\006\\350\\342tY\\033\\'>\\203\\021\\363\\270\\374\\254s\\334\\016\\236\\357X\\324\\265\\257\\204\\320j\\032\\225\\214SAc1\\231.c\\0027\\270\\220\\251\\363\\010\\007\\214.p08%\\261\\326\\262\\374/\\343\\034\\370f\\360N\\r\\273\\3332Z\\315fT\\272H\\0136\\362\\010\\341[\\005py\\037/\\320\\326|\\267\\007\\306zlqZ\\334\\336\\275\\305\\205\\303\\333\\244qn\\021\\332\\307\\031R_\\013\\220\\373\\213\\340n\\351\\203\\221\\310\\240\\n\\236.\\360\\203x\\326\\342\\312\\323J\\216e\\235\\240F+\\366b^n\\271V\\33608\\335\\352\\0169\\343\\2446\\276\\031\\204|J\\266_\\024\\\"\\260\\212\\342%s\\024\\305\\243\\306\\375\\201\\337\\203\\302\\021\\234\\2002\\275\\010\\343>\\211\\360\\367Q\\262\\360C\\027\\206\\372\\322=V\\334%\\311\\224\\225B\\301\\244\\334\\017\\335\\'\\206BN\\336\\314G\\0038\\323\\361<\\272V\\275\\341\\035GV\\202\\342\\311\\274ExY\\322\\030PH\\316\\252X\\257\\\\\\374\\330*\\270\\036\\275@Z\\000\\361o\\217\\036+\\360\\337\\303\\327\\324t\\255>\\316\\035bk\\253\\275\\205\\230\\034\\304\\2066\\337\\267\\2006\\235\\340c\\203\\205\\034.y\\334\\370[\\250\\335\\245\\264\\332\\245\\242\\r=\\265\\317)c\\214ec\\2212vF\\273\\006W=J\\2361\\371\\216/P\\322\\342\\324t\\247\\324\\005\\270\\237V\\323\\343y5\\004\\220\\002#\\337 X\\316\\010;\\270F\\366\\3069\\257C\\360\\267\\304-#\\301\\232m\\226\\265.\\253q,O\\033@\\266\\204\\025\\373;\\237\\335\\006^\\016\\346\\335\\273\\221\\317^s\\212\\000\\357\\274U\\247:k\\027zT\\366:|*\\332g\\237\\002\\270\\020\\252\\312\\010-$\\216If\\014\\371\\302\\203\\374C\\2208\\034\\'\\300_\\214\\366\\027\\177\\001<M\\034\\221Z\\313yit\\373\\254$\\226F>r\\206H\\333\\346\\035\\024\\344\\261\\311\\007<\\203\\201\\216\\277\\306\\377\\000\\024\\341o\\212O\\255#\\350\\3677\\232\\226\\217\\272\\352\\002\\233V\\3338\\r\\036\\025\\210\\333\\265H\\317\\007\\'\\267\\031\\371\\333\\306\\332\\344\\332_\\304X\\364\\355:\\312(\\023Z\\222k\\306\\206\\315\\\\\\013\\200O\\033@;\\200\\312\\347\\375\\354s\\300\\240\\016\\237\\303\\327Z\\327\\355/e,\\266\\367\\327:@\\261\\222%x\\355\\210\\211\\0365.p\\330\\000\\226\\005\\261\\202@ c\\323\\037@\\335\\375\\237G\\3224\\213\\210\\254\\216\\256\\232t\\250\\304C\\013,\\223\\272mT8-\\264\\266q\\363t;\\316:f\\276s\\370\\037\\361\\003Q\\370\\025kk\\341\\211<7\\250Y&\\253\\252\\035F\\372\\342H1\\366h\\203\\361\\0379!X\\0203\\267\\256\\3229\\353\\354_\\t\\376/I\\342/\\021\\0352X\\257\\016\\217u\\023Ku*1\\213\\016\\025\\214g+\\321Ca\\211\\311#\\327\\212\\000\\324\\361\\227\\355a\\257\\352\\376\\030\\376\\320\\321,.f\\232\\0076\\ti)?\\270\\2672&\\365\\217\\'\\346`\\274py\\332q\\330Wy\\341\\017\\211\\037\\020!\\222\\376o\\n\\331%\\205\\202i\\322F^\\342\\323\\312\\232\\335\\035AH\\324\\375\\320\\033# c;\\216@\\355\\201\\341=\\034\\013\\227\\267[\\033g\\322-\\356\\313X\\262/\\231s\\272C\\362\\025\\005v\\214\\360\\017\\034\\2029\\351Z6\\037\\034.\\257|}uc\\035\\365\\334\\247\\\"\\t\\355\\221\\330*[\\252}\\366+\\200\\017;\\272\\214\\001\\330d\\320\\004>#MJ\\367\\303\\226\\260\\352\\272m\\334\\032\\256\\317\\354\\311\\357\\\"\\203\\313\\230\\267\\232\\013\\263\\355\\031U\\014\\355\\330\\203\\265\\277\\0373\\213J\\237[\\320b\\232\\307P\\274\\373U\\236\\370\\321\\n\\264\\2136@#\\'\\034\\215\\301F\\017`Oc^\\225\\343\\017\\332\\032k\\rz\\340[K\\035\\323\\352Zt\\222J\\223\\025\\2268\\324\\371~Y\\333 \\337\\274\\276\\340NF~Q\\356yM/\\306zd\\276\\037\\261\\206\\304A6\\265\\014\\257\\024\\255(\\344\\260-\\265S=\\002\\263\\022s\\200H^\\230\\\"\\200<\\342\\177\\t\\350>/\\273\\212\\013;\\233\\335CPKvUb6\\023.\\3021\\323\\034\\234\\014\\221\\237\\2475\\261\\373;x6;\\017\\210)i\\342\\rU\\256#\\212\\302WV\\267\\211d\\234\\311*\\242\\005!\\261\\237\\233\\214\\344ul\\022x\\250\\364O\\n\\335[\\353\\332\\216\\244d\\222\\331%\\335\\014\\023\\306\\354\\222@\\303h*\\244apY\\312\\202I\\356EMp\\266>\\021\\3264\\211\\364\\233\\274^\\306\\307q\\316\\\\\\266|\\31177p\\013\\014\\034\\365F\\344P\\007s\\241]j?\\013\\264in\\243\\271\\272\\324\\364\\337\\2652\\256\\350\\2006\\005$\\302\\225`G\\231\\264(\\351\\306\\3368\\004\\023\\331\\376\\316w\\227\\027\\027\\226\\332O\\212-a\\223@\\272\\227\\355\\023E\\\"\\006\\226rY\\224\\236;\\234\\263\\014`\\035\\207\\'\\245f\\336\\336\\331\\353\\036\\026\\207O\\232;\\270\\35758%h^X\\210\\214\\260S\\362\\226\\037t\\266}6\\250a\\237l_\\003x\\366_\\2076\\226\\262\\352\\366\\320x\\202\\306\\326I\\014\\321\\301\\\"\\270e\\211\\313\\242\\345\\017\\314\\tv\\000\\347\\237\\246H\\000\\366O\\216\\036\\001\\360\\347\\354\\337\\342\\275\\032\\346\\332id\\265\\3277Ko)}\\311\\027\\231*\\247\\224\\253\\267?(G\\030\\035p9\\3009\\332\\370g\\341\\273K\\375\\\\_\\277\\210\\255\\357t\\210f\\2222\\215\\034\\210\\226\\305\\232El\\222:\\000S\\007?/\\232\\207=\\253\\233\\3701\\360\\361\\277j?\\206\\367\\232\\316\\247t\\372\\265\\346\\201g/\\330\\341\\204\\t\\236$\\337\\301h\\317l\\273a\\260\\016C\\036@9\\265\\342=*\\323X\\321\\247\\360\\367\\207m.4\\215CO\\263\\222)\\274\\306\\to=\\316VW\\340\\340\\360\\0213\\302\\362\\335\\203\\034\\200d~\\325V\\332\\235\\265\\303\\330]}\\227W\\323n.\\343\\2710A\\022\\211\\243\\216X\\314\\210K\\036\\010\\n\\331\\340\\021\\214\\016z\\327%\\360{\\307\\022iZ\\221\\323e\\222M<\\336\\263\\371\\276l,g\\226\\0171\\n\\200\\340m\\301!1\\216\\010\\372\\342\\272\\257\\032\\331\\335[xB\\320[\\033\\213\\275J\\326\\035\\267\\327\\021H\\30690\\305\\021\\025H\\301`\\316\\313\\236\\006Or\\271,\\322|\\027\\177{\\360\\376\\316\\352M.\\010\\255\\344\\363\\255\\2024\\317\\034\\222 ;\\260226\\034\\006\\316\\006q\\307Z\\000,\\256\\364\\213\\235j\\374\\312-M\\321\\201\\257b\\222WY\\\"\\302\\017\\233\\346\\311\\332J\\262`d\\235\\253\\334\\363^9\\343/\\200W\\262x2\\347T\\266\\232\\326xuvc\\344\\253em\\243\\223\\016@\\343\\357|\\253\\214\\034\\374\\304\\034\\362kC\\304\\272\\030\\207\\307Q\\315\\244\\350\\267\\rc\\247\\332\\342\\360I1x\\224}\\365\\330@\\345\\231@\\316I9\\004`v\\347~ \\374[\\325<k\\360\\332\\337\\303\\372)\\273\\262\\276\\262\\230\\251g\\262*\\200\\0310\\330(\\0131\\334\\317\\217M\\275{P\\007W\\250\\305\\244\\350?\\016l4\\270\\343\\264\\271x-~\\326diC\\205-\\261\\\\\\223\\235\\312A\\014\\303<\\340\\037\\245\\025\\345\\276/\\370O\\251E6\\235\\247\\311}\\034\\367v\\226\\354\\377\\000f\\212E\\215A\\362\\361\\207\\007\\014Cw\\317\\370\\321@\\0317\\026\\3277~\\030\\232\\332\\346\\334ZkSN\\263\\316\\3311\\307\\0048\\3079\\300#\\201\\333\\214\\364\\352D\\326\\332\\310\\276\\261>\\034\\260\\270\\202\\306k\\330TMp\\024\\2734\\307n\\017\\240\\014\\300g\\373\\240\\017qT\\274W\\343\\3114\\357\\010\\\"\\333Cj\\255f\\261\\\"]\\224\\006A\\265\\210\\013\\200pI\\nA\\357\\200O\\035\\352\\370R\\377\\000F\\361\\210\\222\\346[9,L\\027\\360\\334\\013\\251X\\310\\321\\305\\3456b\\301\\301\\371\\230\\003\\317E\\332\\007\\004\\344\\003Z\\333P\\275\\267\\361E\\206\\236\\242;\\222\\314\\213,\\262\\202\\207x\\004\\260<\\340\\344\\260\\007=wp\\017}o\\023\\311\\005\\255\\315\\363\\031\\037\\313\\264\\330\\251\\0243\\002$gu\\214\\214\\257\\005\\310\\3119\\343\\247\\255ax\\361\\364\\225\\325\\255\\026\\310\\352P\\033\\370b\\223\\355S\\344\\211eE\\316\\344\\310\\034\\343\\216x\\'\\030\\351\\221\\r\\277\\210t\\315\\020\\352m%\\270\\216\\322\\017\\334[s\\237\\264\\356y3+`\\021\\301#\\034\\017\\224\\237\\300\\003\\237\\360\\277\\305=\\017\\301\\336\\'\\325\\223T\\276]P\\337\\\\\\213T\\215b(c\\333\\200\\210I\\376\\020\\254\\300\\343\\246\\rb\\374_\\360~\\263\\343t\\263\\322\\264x\\001\\362\\265#r\\330,\\321\\354.\\000%\\233\\202\\006K\\034t\\311=\\205`\\376\\322^\\r\\322\\345\\321\\364\\335W\\303p\\312\\267\\332\\245\\374\\021B\\221(2D\\256T\\014\\203\\316\\342\\333\\207\\035\\220u\\317\\032\\355q\\342\\235?\\304v\\372;\\336Ei\\246jP\\275\\272\\337F\\201\\3362S\\030brT\\222?0\\017$P\\007u\\343\\017\\002\\370[Z\\022j0^&\\244\\226Iicx\\\"\\221\\242T\\177\\2241\\030|3\\0140\\317\\'\\03188-N\\375\\235>\\005kV_\\264\\315\\216\\255\\177rn\\364\\273kX\\255\\264\\261v\\234Z\\026\\004\\252\\2268\\350e\\350\\374}\\323\\234uo\\301\\237\\200zm\\354WFy\\256\\022\\362\\337M\\221%6\\245\\245A\\\"\\246w\\343\\r\\270|\\303\\270\\340{\\032\\351\\277g\\335kU\\360\\347\\210\\205\\365\\340\\226\\365\\257\\241g\\333q)X\\367`\\341\\306xo\\231B\\203\\325F\\336\\206\\200=\\233N\\3244\\257\\026\\352\\227\\221\\335\\350\\360Nt\\373y\\037\\355WD:\\\\H\\214#\\016\\007\\003\\033\\316\\322\\030\\035\\273\\017\\3123\\221\\346:<\\032\\256\\251\\254\\333Cb\\326:l\\361\\315\\345\\030\\363\\266\\3325\\'s\\006\\332\\2770\\000\\216I\\344\\025^y\\256\\322\\033\\030\\376\\036\\332_\\330[\\316\\327\\227\\227\\014$\\231\\266\\221\\022\\276rUr\\3353\\203\\324d\\026?\\302\\005q\\177\\016\\247\\361.\\275\\343Mel\\254l\\355m\\365\\304\\020K\\250\\272\\354\\032x`\\233\\2328\\260\\016T\\025A\\216\\204\\236\\324\\001\\267a\\034\\227\\327Z\\305\\304:\\305\\315\\254\\272R*\\351\\321\\273\\2214\\323\\014\\271P3\\2221\\264\\034\\340\\200\\307\\241\\342\\262\\376\\000\\351K\\340O\\023\\353~\\030\\361N\\260\\326\\262x\\2065\\276\\270\\225\\0204\\366\\352\\373\\367\\010\\361\\301\\033\\270\\';\\200f\\003$\\324\\237\\n>\\032\\351^\\031\\265\\277\\274\\274\\275\\271\\276\\326\\332\\3505\\304\\255\\303!\\001\\234\\014\\203\\214\\234\\270<c\\036\\3122\\337\\210\\037\\r\\240\\370\\301\\341\\211nm\\247\\2355\\3355\\005\\244\\313\\270\\205DB\\017\\312FA\\306\\340;\\364\\365<\\000y\\347\\207\\364\\233g\\370\\327\\342\\355V\\342\\323U\\270\\323\\322?\\261\\351\\356Q\\2674\\233\\330\\203\\234\\020\\n\\205\\316\\007B:\\340f\\267o-\\365\\375[U\\322\\346\\323\\343\\206\\302\\312{\\211.\\031_\\367{\\021C;\\007\\007\\035~\\2479\\\\\\023\\305R\\370m\\361\\010|=\\360\\325\\316\\215\\342;9f\\263b\\323\\333\\264\\314\\301c\\230\\202T\\003\\236\\013\\002\\t>\\211\\326\\264>\\026|l\\360\\224\\277\\022m\\354\\213]]\\244\\333]\\\"\\212\\014\\265\\344\\214\\t\\nK\\003\\202X\\200z\\022\\010\\343\\222h\\002\\215\\256\\253\\252Z\\370\\214\\013\\310]-o\\337|e\\202\\213tf;dF\\031\\003 ?$t?C]4^\\027\\325/\\276\\\"i\\262\\0355\\257\\256#\\211\\032\\006\\261UP\\241\\334\\355\\334\\271\\034)\\000\\020{\\237\\306\\271\\317\\026\\374Z\\271\\360~\\275s\\035\\277\\207b\\235\\031$\\215\\326X\\304\\242$\\336\\337:\\225\\037.C\\003\\236\\017\\363\\255\\177\\002|h\\032g\\216\\027Y\\216\\3568\\257\\244\\177\\337\\254\\340\\307\\0241\\253\\356F\\3009%z\\363\\306Fs\\234\\340\\003\\250\\277\\361u\\377\\000\\215\\322?\\016\\330O\\025\\315\\306\\236\\362G43\\253\\004\\000\\r\\2529\\0039\\003ny\\345\\227\\255hi\\272\\\\\\376\\010\\272\\216\\327S\\263\\265\\021\\265\\303B\\221\\266$!\\313p\\016\\322X1<\\014\\347\\037\\206k\\212\\324>+[x\\217\\304r\\\\h1A4\\366\\017\\276\\346\\346\\326\\002\\003\\345\\324\\357\\005\\010\\007\\346$t\\344\\234s\\234\\207\\370\\357\\366\\211\\324\\215\\260\\324\\344\\321.V\\302\\033\\205\\014\\311\\021\\\"i\\032l\\026\\301\\371\\267\\003\\023`\\034\\034\\214\\216\\324\\001\\3657\\301\\270t\\377\\000\\n\\233;\\317\\016\\352\\267\\032U\\335\\254\\0213-\\234\\333\\212F#e#\\001\\227*NX\\206\\311\\311\\030\\300\\250\\254\\376%7\\212u\\207\\3235k8\\245\\325\\2326G\\361\\004J\\360\\274 \\222\\025\\244O\\272w\\216\\240\\214\\372\\220\\005y\\037\\200\\3765xb+\\324\\217\\301\\366\\267W\\023L\\212\\250%\\330\\322.\\374\\207F\\302\\001\\267$\\034t\\000\\373q\\351\\032\\017\\305\\033\\031\\264\\255N\\337WK\\035J\\354\\300\\253\\014\\322[\\024\\215\\212\\260\\0319P\\001\\310\\300\\004`\\026a\\330\\000\\001\\346\\336/\\361\\016\\253\\341\\273\\230tkm}&\\200\\250\\271g\\266U#h\\214\\020\\330\\031\\003\\225\\014~PA<\\214\\256k\\254\\360\\367\\307O\\021\\335|:]\\022\\356\\316\\336\\376+\\033g\\3735\\304YI!\\33463m\\312\\374\\334\\217\\230\\362YGZ\\363\\337\\037\\351\\242\\363\\306\\023\\304\\255mc\\253y\\206IV\\323lBI\\013.U@\\376\\034\\034\\214d\\034q\\330\\326\\227\\331\\027\\302\\332\\014\\256\\355s%\\273#y\\305#ft>`\\003v\\340>\\\\\\005\\311 \\356\\300\\035\\363@\\013\\342+\\313\\357\\023x)mm\\356\\314\\020\\311s\\025\\265\\311\\271\\205T\\257\\226\\305\\201\\r\\203\\3622\\2608\\007\\236\\204s\\302|k7^\\000\\321\\2545\\255+TG\\232\\316\\001,\\002W\\363#G\\021\\347f9\\311\\3343\\202\\271\\371\\273\\325\\035G\\305\\017\\017\\201Z\\356\\353P\\203N\\267k\\202$\\221\\027\\006T\\215\\024\\200T\\234(\\311*\\244s\\372\\232\\363o\\023\\370\\342\\343\\342\\357\\204.$\\321X\\335\\336i\\233,V7\\235\\212\\204!\\267\\022\\335\\0166\\375\\354\\344du\\316@\\005M\\017\\366\\313\\261\\3617\\207~\\335\\251X\\255\\315\\375\\366\\255\\344L~\\314\\250\\261FT\\206\\344\\0168 \\216x\\317|Q\\\\\\307\\305\\215gE\\3701\\360\\316(\\256t\\335>\\342\\342\\361\\311\\204\\004\\\\\\2536\\320\\334\\220s\\316\\t\\007\\330\\016\\271\\005\\000r7:\\272i\\232>\\261`.\\231\\365\\035,\\213i\\342\\362\\303.Ba\\231I\\365\\r\\234\\216x\\367&\\272\\035-%\\265\\360\\255\\340\\032l\\257&\\2434o$\\363\\314J\\3340Q\\270\\341\\0160G\\\\\\344\\017\\345$\\376\\032\\265\\323\\354u$\\202=B\\013\\333\\373\\330\\032\\354\\316\\212\\027\\313\\301 r\\244)\\335\\205<\\367\\'\\030\\025C\\303R\\352\\266\\226\\327\\032C\\313,77S\\313+\\243\\307\\275\\242D\\007$\\344d\\340\\260\\357\\357\\236(\\002\\206\\263}\\251\\334\\336i\\0277s\\334@XI \\033D\\233\\316\\315\\370n\\370e\\004\\363\\237^\\202\\264\\3745\\257X\\351\\376!\\270\\267\\274K\\245\\266\\271\\263\\330\\303\\000/\\227\\311f\\\\\\017F\\003\\216\\271\\353\\316+\\243\\361\\216\\235%\\277\\366M\\345\\315\\255\\373=\\253*\\336#ox\\342Q\\205)\\311\\033\\2627r}\\371\\342\\275\\013\\303\\326\\236\\r\\324\\364\\264\\326ng]6-\\032\\337\\313p\\362y\\206fgVP\\024\\200p>c\\202\\333H\\n(\\003\\347+?\\210\\327\\0367\\361]\\265\\305\\324w\\026\\272&\\227:\\333\\302\\344*\\264\\205\\tPH\\301=\\262\\307\\034n\\306y\\305z-\\315\\234\\021x\\252\\352\\342\\312\\342H\\355\\3565\\014[\\007S2\\304\\210\\024\\250$g<7|}G5\\207\\343\\017\\005\\351\\366>)\\222\\323@\\271Ile\\2702\\235\\350\\251\\230\\330\\253\\340\\221\\3009\\r\\324\\017Nz\\2167\\302\\021\\334xw\\342\\265\\274\\\"\\357S\\221\\'\\224\\3113B\\204 \\371\\361\\236\\273\\000\\353\\216{\\363\\315\\000}\\025u\\342{\\037\\206\\227:E\\225\\274(\\322\\334\\262\\313\\266)J\\205\\231\\325\\214`\\023\\313c\\344f\\301\\030<\\021\\326\\235\\343_\\004\\334\\351\\276\\030\\320e\\260\\274\\264yC=\\224\\026\\266\\321\\022\\322\\\"\\3343\\227\\373\\300\\262\\216q\\202\\007\\324\\014\\327c\\027\\204,\\374y\\244-\\225\\244\\366\\257-\\265\\2335\\254\\363\\304\\301\\341&&\\221\\223iC\\2259?0\\'\\201\\320g\\232\\337\\013\\364\\233/\\010xoH\\236[\\373-B\\372\\006\\032x\\226)\\016 \\363\\006\\320\\313\\263\\0318=\\000\\311\\352N\\010\\240\\n~*\\370\\263\\026\\231\\361\\0214\\2156\\316\\'\\271\\234$\\267\\223HG\\001b\\375\\360#\\003nIb\\t\\340d\\372di\\317\\342\\250\\374O\\342\\277\\016I\\244j\\360E\\0341\\027\\226(wm7\\004\\036HN\\027\\016\\244\\006\\365+\\316\\010\\254o\\210^\\024\\360\\327\\301\\215n\\352Mz\\350\\313\\251x\\242g\\026\\242\\3424\\312\\tY\\225\\211\\2239\\351\\220z\\036x8\\031\\255\\331>\\030\\277\\201t=6?\\006\\337\\332j\\227\\272\\245\\274\\263\\260\\203|\\222\\025<\\000H\\0042\\225\\031\\364\\350rh\\002\\323^^\\350\\2762\\322d[\\373;]>\\035\\373c\\267\\332\\273\\317\\316\\271\\223\\220p\\333\\371\\311\\335\\217M\\240\\013\\376\\031\\370/\\177\\256&\\245\\252\\352B\\341\\\"\\264gg1F\\215\\346\\340\\356\\316\\356\\354\\031c\\031\\307\\361\\201X^\\034\\370\\177.\\217\\241E-\\376\\241.\\245y,p\\313s\\3453,\\262\\356V&1\\325\\201@\\375\\0060@\\374;/\\017\\177n\\351:$\\232\\244o\\247\\334\\351\\361\\211-\\235\\032q\\'\\224\\252\\027\\314\\316\\007\\313\\206a\\200pK/C\\234P\\003>2|(\\360\\327\\210\\274?\\341\\310#\\206\\351m\\241\\022+\\310b\\022\\031\\227j\\200\\375q\\202U\\300\\035p\\017$\\025\\025\\347\\366\\337\\n\\343\\320m\\354&\\322\\342\\205\\027M\\272\\221\\345\\n\\211\\036\\377\\000\\221\\312\\234\\036=\\200\\306~\\350\\343\\245zG\\210\\376$i\\372m\\275\\224\\026z\\212\\353W\\263\\017&\\326\\316\\002\\000\\037 X\\332F,\\007<|\\270\\301\\334r\\003\\034\\016_L\\370\\357\\254\\037\\016j\\366\\367Z}\\316\\222.\\035\\2276\\305\\236Fev\\371\\360~\\367\\312\\0242\\2020\\312\\274\\214\\320\\006}\\265\\375\\307\\213\\344\\326g\\274\\323\\341\\212hb>f\\346P\\314\\211\\036\\303 9\\341\\262\\303\\2020Onk\\223\\323~\\027\\370kX\\361e\\274\\223\\226\\277\\275\\276\\210C\\272E\\021\\305\\031\\336\\304\\223\\200\\304\\034\\261\\\\vR\\271 \\340\\035\\313mJM\\037K\\274\\264\\271\\271\\267\\263\\233_\\335,\\206d\\002F\\0038M\\275rv\\363\\333\\000u\\302\\223\\231\\341\\033\\313\\273\\317\\020\\330\\300\\252\\204\\\\G\\231\\374\\244y\\022\\034\\355\\300\\371O,0w\\021\\365\\364\\240\\002\\337\\302\\t\\341\\273yt\\335:\\326+\\006M\\260\\312\\312<\\265\\330\\0340\\3438?uy\\353\\300>\\246\\275GC\\213F\\272\\370k&\\227#\\333\\330\\264\\337\\276\\225\\304\\\"RX*\\3569#*~Q\\300\\'\\227$\\232\\301\\203RK\\253\\035V[k\\027\\234\\333B\\322\\252\\312\\347\\020\\205\\033C0 \\375\\322\\335\\010?y\\261\\327%n|\\021yg\\246L\\357{o=\\352\\336F\\231\\215\\361\\024+\\264\\227|\\221\\363\\200\\001\\003\\345\\300\\031\\355@\\032\\277\\263\\333\\331x^\\322}O\\303\\321\\254\\351\\024Ng\\332\\035BH\\221H\\317\\026\\024\\206\\004H\\t\\343#\\345\\035\\310\\025\\316\\374Z\\360\\225\\257\\305\\035^\\373\\304\\020\\211\\354\\240h\\003\\305m\\n820\\\"<\\235\\304\\237\\233#\\223\\234\\261\\'q\\316+\\250\\370%\\340+\\237\\006\\227\\276\\325ZM;OHf\\275\\267hv\\313\\346\\334y\\212v\\222z\\014\\005\\035:\\34389\\333o\\305zE\\235\\3046v\\267\\032\\345\\255\\274\\002q\\004q<\\254\\201\\267\\025b\\030\\240\\333\\271P\\205\\366$\\200rr\\000>~\\361\\036\\205>\\207\\246\\305\\014\\3272=\\325\\330[\\226\\224\\226\\332\\335F2\\377\\0006T\\271\\'\\235\\270\\347\\223Z\\276!\\323|c\\341\\337\\r\\313\\017\\207/\\013\\233\\322\\036\\357\\314\\270t\\302\\307\\215\\243oR\\006w\\034\\022x>\\231\\254o\\213\\372}\\235\\312j3ZH\\3603\\352\\002\\026\\271k\\205t(\\333y\\0318$c>\\234\\3765\\352\\177\\330\\363k\\272F\\2256\\225z\\254\\323\\306\\217$\\251\\0000\\243\\r\\241\\362\\245\\262@\\003\\234\\344\\036:d\\340\\003\\314\\374M\\360\\266MKA\\212\\347\\\\\\361\\013\\315*\\314\\215-\\260\\177,\\037\\230\\203\\261z\\021\\363g8#\\014{V\\266\\271\\341\\013\\237\\203\\376\\036\\272\\266\\322\\n\\313\\245\\274\\005/]\\001>s$d\\263\\340r\\277tq\\237\\341c\\327\\212\\273\\343\\037\\001\\311.\\247kc\\034\\362\\334\\\\+|\\327Q\\253\\020\\303\\313V\\0102\\271\\306\\355\\303\\333i\\3066\\340\\320\\327\\\"\\276\\377\\000\\204b\\353K\\273\\267kk\\215JSf\\2428\\2242\\273\\006Y\\003)\\300#\\016\\334\\022\\t\\343\\2168\\000\\312\\360O\\303M\\'\\343\\036\\223a\\252\\370\\206\\341\\255\\264\\333VXDS\\273\\026v\\0049\\220\\251\\030\\003ie\\335\\236\\3758\\242\\265\\376\\017|2\\325~\\030Z\\213+\\235Iu(%3+@@e\\200\\223\\2662\\003\\023\\302\\236\\002\\257|\\347\\\"\\212\\000\\345-~)\\331\\353^,\\212\\371\\240[]\\016\\3368\\242\\334\\2448\\215\\304\\252\\003\\261~\\016p@\\007\\216\\236\\365z\\013KI\\257\\245\\272\\226\\004\\271\\207U\\2730\\302 \\213\\016\\003\\203\\274\\257 \\026\\003\\034\\034\\200X`u\\024Q@\\t\\342\\273\\235GO\\360\\336\\245\\244\\305\\247\\305\\375\\237\\020\\362\\322_\\231\\246\\213\\223\\367\\202\\200~\\351@\\303\\334}j\\244^\\023\\327l\\364\\241\\010\\275\\202ce\\004f\\346?\\225\\243\\304\\201v\\000Y~\\360\\332O\\322>\\2474Q@\\034\\217\\207\\354o\\274-\\2555\\321\\217|w\\021\\261\\273\\225U\\213D7\\017\\336m\\031\\004(\\223\\246q\\316rqT\\2741\\177mqy\\246\\313g\\013\\037\\355\\033\\364\\267\\022\\250!\\355\\243 \\027\\\\c\\373\\271\\351\\323\\'\\275\\024P\\007\\325)%\\205\\242\\313\\247\\303\\254\\013K9\\243\\205\\200\\226\\004\\205\\343\\337\\023\\246\\347c\\302\\256\\335\\243i=;Ve\\237\\302]?\\3077\\266\\266vL\\232U\\264\\320\\033\\271\\356\\315\\352\\233{\\237\\'kd1;y<\\r\\255\\311\\004\\003\\306IE\\000x\\177\\355\\211\\360\\327\\306>4\\370\\213\\240X\\331L\\367\\332~\\234\\221\\371\\217\\344\\244k\\034\\243\\215\\204\\214\\356Pw\\0168\\301\\343\\265z\\334\\332\\316\\253\\340{M\\n\\376M\\037V\\2626V\\353j\\242@\\360\\3150\\037&1\\234`\\252\\361\\200G\\314;\\364(\\240\\016n\\343\\305Z\\265\\246\\261\\240\\352\\026\\227\\327?\\331\\372k\\264\\227P\\\\H\\254l\\325\\210\\335\\274.\\335\\240\\251\\003\\270\\343\\034p+\\245\\272\\326\\265\\035f\\337W\\267\\323\\356-nt\\235H\\356\\221\\002\\224\\334\\270`\\254\\025rF\\0018\\007\\215\\330=M\\024P\\006\\037\\303\\277\\003\\315f\\3135\\344\\313\\024\\242R6\\221\\226\\210gl\\014q\\202X\\201\\351\\337\\325\\271\\357<)\\341m#U\\322\\265+\\373\\215B\\346W\\267\\002[E+\\261\\021\\2226c\\037Q\\306\\340\\243\\261 \\023\\365(\\240\\014\\253\\333Ht\\211-\\356\\3658\\242\\324\\026Kv\\233i\\214\\227\\270@I\\0101\\217\\274B\\236;\\037\\255Q\\360\\307\\212\\323Z\\361\\024Z4\\220\\\\\\330Is<\\215%\\312F\\n\\272\\210\\325B\\3620\\000(\\254\\030n8c\\234\\367(\\240\\014o\\210\\376/\\324\\254\\374E\\375\\235g`\\232\\222\\334\\310!\\373\\\\\\212$\\221-\\204e\\371\\306s\\225\\311\\374\\372c\\237X\\264\\325<A\\245x~\\005\\267\\266\\236\\337O\\226\\325RH\\213\\035\\311&\\013\\210\\311\\000\\2346\\030\\202\\007\\256\\t\\311\\242\\212\\000\\217J\\370\\301u/\\205\\265F\\325m\\256\\374\\351m\\222\\316\\010f,\\250\\222?\\224\\316[\\250$\\005A\\216x\\177\\\\m\\362\\217\\211\\332\\211\\3615\\366\\225i\\247D\\023S\\323.|\\335\\321ne\\222 >T`\\006\\003gy$\\034\\021E\\024\\001\\315\\370\\223\\302Z\\376\\243\\257Kmia5\\344\\315t.<\\240\\201#\\220\\025R\\000\\031\\301\\317+\\223\\337\\216y\\307u\\340\\377\\000\\032]\\3521M\\246Y\\013kwu3\\262/\\337\\335\\207@\\241B\\347\\033H\\031\\037/\\004\\216H\\024Q@\\026\\344\\370\\205u{\\252-\\275\\235\\304\\026W\\266\\276N\\036\\312\\337,\\252\\243\\0006\\007\\336\\310<\\221\\222x\\3118\\025\\267\\360\\377\\000\\341\\277\\211\\206\\277\\375\\245\\251<\\227\\367\\020\\\\\\307\\\"\\013\\230\\224*\\277\\233\\200[\\000e~^\\243\\004\\236q\\350Q@\\035\\357\\201>\\027/\\214\\264\\213\\373\\215H\\275\\277\\330\\247$D\\250\\354If_\\231\\300\\343\\357n \\0220T\\3628\\242\\212(\\003\\377\\331\"\n",
            "      }\n",
            "    }\n",
            "  }\n",
            "  feature {\n",
            "    key: \"image/filename\"\n",
            "    value {\n",
            "      bytes_list {\n",
            "        value: \"crazing_21.jpg\"\n",
            "      }\n",
            "    }\n",
            "  }\n",
            "  feature {\n",
            "    key: \"image/format\"\n",
            "    value {\n",
            "      bytes_list {\n",
            "        value: \"jpg\"\n",
            "      }\n",
            "    }\n",
            "  }\n",
            "  feature {\n",
            "    key: \"image/height\"\n",
            "    value {\n",
            "      int64_list {\n",
            "        value: 200\n",
            "      }\n",
            "    }\n",
            "  }\n",
            "  feature {\n",
            "    key: \"image/object/bndbox/xmax\"\n",
            "    value {\n",
            "      float_list {\n",
            "        value: 198.0\n",
            "        value: 197.0\n",
            "        value: 198.0\n",
            "      }\n",
            "    }\n",
            "  }\n",
            "  feature {\n",
            "    key: \"image/object/bndbox/xmin\"\n",
            "    value {\n",
            "      float_list {\n",
            "        value: 27.0\n",
            "        value: 20.0\n",
            "        value: 24.0\n",
            "      }\n",
            "    }\n",
            "  }\n",
            "  feature {\n",
            "    key: \"image/object/bndbox/ymax\"\n",
            "    value {\n",
            "      float_list {\n",
            "        value: 76.0\n",
            "        value: 120.0\n",
            "        value: 187.0\n",
            "      }\n",
            "    }\n",
            "  }\n",
            "  feature {\n",
            "    key: \"image/object/bndbox/ymin\"\n",
            "    value {\n",
            "      float_list {\n",
            "        value: 27.0\n",
            "        value: 85.0\n",
            "        value: 123.0\n",
            "      }\n",
            "    }\n",
            "  }\n",
            "  feature {\n",
            "    key: \"image/object/class/text\"\n",
            "    value {\n",
            "      bytes_list {\n",
            "        value: \"crazing\"\n",
            "        value: \"crazing\"\n",
            "        value: \"crazing\"\n",
            "      }\n",
            "    }\n",
            "  }\n",
            "  feature {\n",
            "    key: \"image/object/difficult\"\n",
            "    value {\n",
            "      int64_list {\n",
            "        value: 0\n",
            "        value: 0\n",
            "        value: 0\n",
            "      }\n",
            "    }\n",
            "  }\n",
            "  feature {\n",
            "    key: \"image/object/truncated\"\n",
            "    value {\n",
            "      int64_list {\n",
            "        value: 0\n",
            "        value: 0\n",
            "        value: 0\n",
            "      }\n",
            "    }\n",
            "  }\n",
            "  feature {\n",
            "    key: \"image/width\"\n",
            "    value {\n",
            "      int64_list {\n",
            "        value: 200\n",
            "      }\n",
            "    }\n",
            "  }\n",
            "}\n",
            "\n"
          ]
        }
      ]
    },
    {
      "cell_type": "markdown",
      "source": [
        "#Model Training"
      ],
      "metadata": {
        "id": "DX6Mr9zgq8vt"
      }
    },
    {
      "cell_type": "code",
      "source": [
        "import os\n",
        "import tensorflow as tf\n",
        "\n",
        "# Define Image constants\n",
        "image_height = 224\n",
        "image_width = 224\n",
        "n_color_channels = 3  # Since images are converted to 3 channels\n",
        "batch_size = 32\n",
        "epochs = 10\n",
        "n_classes = 6\n",
        "\n",
        "train_tfrecords_dir = '/content/Train_tfrecords'  # Directory containing TFRecord files\n",
        "test_tfrecords_dir = '/content/Validation_tfrecords'\n",
        "\n",
        "# Define train and test datasets\n",
        "train_pattern = os.path.join(train_tfrecords_dir, '*.record')\n",
        "test_pattern = os.path.join(test_tfrecords_dir, '*.record')\n",
        "\n",
        "train_tfrecords = tf.data.Dataset.list_files(train_pattern)\n",
        "test_tfrecords = tf.data.Dataset.list_files(test_pattern)\n",
        "\n",
        "# Load and preprocess datasets\n",
        "\n",
        "def parse_tfrecord_fn(example):\n",
        "    feature_description = {\n",
        "        'image/encoded': tf.io.FixedLenFeature([], tf.string),\n",
        "        'image/object/class/text': tf.io.FixedLenFeature([], tf.int64)  # Change data type to int64\n",
        "    }\n",
        "    example = tf.io.parse_single_example(example, feature_description)\n",
        "    image = tf.image.decode_jpeg(example['image/encoded'], channels=1)  # Decode as single channel\n",
        "    image = tf.image.resize(image, [image_height, image_width])\n",
        "    image = tf.image.grayscale_to_rgb(image)  # Convert single channel to 3 channels\n",
        "    image = tf.cast(image, tf.float32) / 255.0  # Normalize image to [0, 1]\n",
        "    label = example['image/object/class/text']\n",
        "    return image, label\n",
        "\n",
        "\n",
        "def parse_tfrecords(file_path):\n",
        "    return tf.data.TFRecordDataset(file_path).map(parse_tfrecord_fn)\n",
        "\n",
        "train_dataset = train_tfrecords.interleave(parse_tfrecords, cycle_length=tf.data.experimental.AUTOTUNE)\n",
        "train_dataset = train_dataset.shuffle(buffer_size=1000).batch(batch_size).prefetch(buffer_size=tf.data.experimental.AUTOTUNE)\n",
        "\n",
        "test_dataset = test_tfrecords.interleave(parse_tfrecords, cycle_length=tf.data.experimental.AUTOTUNE)\n",
        "test_dataset = test_dataset.batch(batch_size).prefetch(buffer_size=tf.data.experimental.AUTOTUNE)\n",
        "\n",
        "# Define model and compile\n",
        "base_model = tf.keras.applications.Xception(input_shape=(image_height, image_width, n_color_channels),\n",
        "                                            include_top=False,\n",
        "                                            weights=\"imagenet\")\n",
        "\n",
        "for layer in base_model.layers:\n",
        "    layer.trainable = False\n",
        "\n",
        "model = tf.keras.Sequential([\n",
        "    base_model,\n",
        "    tf.keras.layers.BatchNormalization(),\n",
        "    tf.keras.layers.GlobalAveragePooling2D(),\n",
        "    tf.keras.layers.Dense(8, activation='relu'),\n",
        "    tf.keras.layers.Dropout(0.4),\n",
        "    tf.keras.layers.Dense(n_classes, activation='relu')\n",
        "])\n",
        "\n",
        "model.compile(optimizer='adam',\n",
        "              loss=tf.keras.losses.SparseCategoricalCrossentropy(from_logits=True),\n",
        "              metrics=['accuracy'])\n",
        "\n",
        "# Train model\n",
        "model.fit(train_dataset, epochs=epochs, validation_data=test_dataset)"
      ],
      "metadata": {
        "colab": {
          "base_uri": "https://localhost:8080/",
          "height": 460
        },
        "id": "Ee0cKnTonIA0",
        "outputId": "6c1e2fed-44f9-408e-a7c5-1ce8570d61f3"
      },
      "execution_count": null,
      "outputs": [
        {
          "output_type": "stream",
          "name": "stdout",
          "text": [
            "Epoch 1/10\n"
          ]
        },
        {
          "output_type": "error",
          "ename": "InvalidArgumentError",
          "evalue": "Graph execution error:\n\nDetected at node ParseSingleExample/ParseExample/ParseExampleV2 defined at (most recent call last):\n<stack traces unavailable>\nKey: image/object/class/text.  Data types don't match. Data type: string but expected type: int64\n\t [[{{node ParseSingleExample/ParseExample/ParseExampleV2}}]]\n\t [[IteratorGetNext]] [Op:__inference_train_function_35649]",
          "traceback": [
            "\u001b[0;31m---------------------------------------------------------------------------\u001b[0m",
            "\u001b[0;31mInvalidArgumentError\u001b[0m                      Traceback (most recent call last)",
            "\u001b[0;32m<ipython-input-22-36d496e1d357>\u001b[0m in \u001b[0;36m<cell line: 68>\u001b[0;34m()\u001b[0m\n\u001b[1;32m     66\u001b[0m \u001b[0;34m\u001b[0m\u001b[0m\n\u001b[1;32m     67\u001b[0m \u001b[0;31m# Train model\u001b[0m\u001b[0;34m\u001b[0m\u001b[0;34m\u001b[0m\u001b[0m\n\u001b[0;32m---> 68\u001b[0;31m \u001b[0mmodel\u001b[0m\u001b[0;34m.\u001b[0m\u001b[0mfit\u001b[0m\u001b[0;34m(\u001b[0m\u001b[0mtrain_dataset\u001b[0m\u001b[0;34m,\u001b[0m \u001b[0mepochs\u001b[0m\u001b[0;34m=\u001b[0m\u001b[0mepochs\u001b[0m\u001b[0;34m,\u001b[0m \u001b[0mvalidation_data\u001b[0m\u001b[0;34m=\u001b[0m\u001b[0mtest_dataset\u001b[0m\u001b[0;34m)\u001b[0m\u001b[0;34m\u001b[0m\u001b[0;34m\u001b[0m\u001b[0m\n\u001b[0m",
            "\u001b[0;32m/usr/local/lib/python3.10/dist-packages/keras/src/utils/traceback_utils.py\u001b[0m in \u001b[0;36merror_handler\u001b[0;34m(*args, **kwargs)\u001b[0m\n\u001b[1;32m     68\u001b[0m             \u001b[0;31m# To get the full stack trace, call:\u001b[0m\u001b[0;34m\u001b[0m\u001b[0;34m\u001b[0m\u001b[0m\n\u001b[1;32m     69\u001b[0m             \u001b[0;31m# `tf.debugging.disable_traceback_filtering()`\u001b[0m\u001b[0;34m\u001b[0m\u001b[0;34m\u001b[0m\u001b[0m\n\u001b[0;32m---> 70\u001b[0;31m             \u001b[0;32mraise\u001b[0m \u001b[0me\u001b[0m\u001b[0;34m.\u001b[0m\u001b[0mwith_traceback\u001b[0m\u001b[0;34m(\u001b[0m\u001b[0mfiltered_tb\u001b[0m\u001b[0;34m)\u001b[0m \u001b[0;32mfrom\u001b[0m \u001b[0;32mNone\u001b[0m\u001b[0;34m\u001b[0m\u001b[0;34m\u001b[0m\u001b[0m\n\u001b[0m\u001b[1;32m     71\u001b[0m         \u001b[0;32mfinally\u001b[0m\u001b[0;34m:\u001b[0m\u001b[0;34m\u001b[0m\u001b[0;34m\u001b[0m\u001b[0m\n\u001b[1;32m     72\u001b[0m             \u001b[0;32mdel\u001b[0m \u001b[0mfiltered_tb\u001b[0m\u001b[0;34m\u001b[0m\u001b[0;34m\u001b[0m\u001b[0m\n",
            "\u001b[0;32m/usr/local/lib/python3.10/dist-packages/tensorflow/python/eager/execute.py\u001b[0m in \u001b[0;36mquick_execute\u001b[0;34m(op_name, num_outputs, inputs, attrs, ctx, name)\u001b[0m\n\u001b[1;32m     51\u001b[0m   \u001b[0;32mtry\u001b[0m\u001b[0;34m:\u001b[0m\u001b[0;34m\u001b[0m\u001b[0;34m\u001b[0m\u001b[0m\n\u001b[1;32m     52\u001b[0m     \u001b[0mctx\u001b[0m\u001b[0;34m.\u001b[0m\u001b[0mensure_initialized\u001b[0m\u001b[0;34m(\u001b[0m\u001b[0;34m)\u001b[0m\u001b[0;34m\u001b[0m\u001b[0;34m\u001b[0m\u001b[0m\n\u001b[0;32m---> 53\u001b[0;31m     tensors = pywrap_tfe.TFE_Py_Execute(ctx._handle, device_name, op_name,\n\u001b[0m\u001b[1;32m     54\u001b[0m                                         inputs, attrs, num_outputs)\n\u001b[1;32m     55\u001b[0m   \u001b[0;32mexcept\u001b[0m \u001b[0mcore\u001b[0m\u001b[0;34m.\u001b[0m\u001b[0m_NotOkStatusException\u001b[0m \u001b[0;32mas\u001b[0m \u001b[0me\u001b[0m\u001b[0;34m:\u001b[0m\u001b[0;34m\u001b[0m\u001b[0;34m\u001b[0m\u001b[0m\n",
            "\u001b[0;31mInvalidArgumentError\u001b[0m: Graph execution error:\n\nDetected at node ParseSingleExample/ParseExample/ParseExampleV2 defined at (most recent call last):\n<stack traces unavailable>\nKey: image/object/class/text.  Data types don't match. Data type: string but expected type: int64\n\t [[{{node ParseSingleExample/ParseExample/ParseExampleV2}}]]\n\t [[IteratorGetNext]] [Op:__inference_train_function_35649]"
          ]
        }
      ]
    }
  ]
}